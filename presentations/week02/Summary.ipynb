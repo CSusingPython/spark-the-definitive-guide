{
 "cells": [
  {
   "cell_type": "markdown",
   "id": "e4f7c440",
   "metadata": {},
   "source": [
    "### 스파크 기본 구조"
   ]
  },
  {
   "cell_type": "markdown",
   "id": "5913f630",
   "metadata": {},
   "source": [
    "- 크게 Driver와 Executor로 다음과 같이 구성된다\n",
    "- 대부분의 Executors는 항상 스파크 코드를 실행한다. 그러나 Driver는 스파크의 언어 API를 통해 다양한 언어로 구동될 수 있다\n",
    "  - Pyspark, Scala 등\n",
    "![spark-function-structure](../../assets/presentations/week02/spark-basic-structure.png)"
   ]
  },
  {
   "cell_type": "markdown",
   "id": "2c8c1c13",
   "metadata": {},
   "source": [
    "### Spark Language APIs\n",
    "\n",
    "![spark-language-apis](../../assets/presentations/week02/spark-language-apis.png)"
   ]
  },
  {
   "cell_type": "markdown",
   "id": "e2b1b43e",
   "metadata": {},
   "source": [
    "### Starting Spark\n",
    "- Spark Applications에 명령어와 데이터를 전달하는 것이 바로 SparkSession"
   ]
  },
  {
   "cell_type": "markdown",
   "id": "69e1dadd",
   "metadata": {},
   "source": [
    "### Partitions\n",
    "- 모든 executor가 병렬로 일할 수 있도록, 데이터를 쪼갠 단위.\n",
    "- Partition은 클러스터의 하나의 물리적 시스템에 있는 row의 모음\n",
    "- Partition을 직접 조작할 수는 없다. high-level로 설계를 할 수만 있고, 실제 execution은 spark가 알아서 한다."
   ]
  },
  {
   "cell_type": "markdown",
   "id": "d4088b2e",
   "metadata": {},
   "source": [
    "### Transformation\n",
    "- Narrow dependency: 주어진 파티션 내에서만 상호작용이 있는 것\n",
    "- Wide dependency: 외부 파티션과 상호작용이 있는 것"
   ]
  },
  {
   "cell_type": "markdown",
   "id": "27785adb",
   "metadata": {},
   "source": [
    "### Lazy Evaluation\n",
    "- 작업을 맨 뒤에 몰아서 한다는 계속 말했던 내용"
   ]
  },
  {
   "cell_type": "markdown",
   "id": "cd345c50",
   "metadata": {},
   "source": [
    "### Action\n",
    "- Transformation의 연산을 트리거하는 것.\n",
    "- 가장 단순한 것은 action"
   ]
  },
  {
   "cell_type": "code",
   "execution_count": null,
   "id": "949eef47",
   "metadata": {},
   "outputs": [],
   "source": []
  }
 ],
 "metadata": {
  "kernelspec": {
   "display_name": "Python 3 (ipykernel)",
   "language": "python",
   "name": "python3"
  },
  "language_info": {
   "codemirror_mode": {
    "name": "ipython",
    "version": 3
   },
   "file_extension": ".py",
   "mimetype": "text/x-python",
   "name": "python",
   "nbconvert_exporter": "python",
   "pygments_lexer": "ipython3",
   "version": "3.9.12"
  }
 },
 "nbformat": 4,
 "nbformat_minor": 5
}
