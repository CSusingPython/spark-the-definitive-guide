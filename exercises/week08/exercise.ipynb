{
 "cells": [
  {
   "cell_type": "code",
   "execution_count": 1,
   "id": "890505cb-eb7e-4e59-8d9d-86c17c98274c",
   "metadata": {
    "tags": []
   },
   "outputs": [],
   "source": [
    "from pyspark.sql import SparkSession\n",
    "import pandas as pd\n",
    "\n",
    "spark = SparkSession.builder.getOrCreate() # 1"
   ]
  },
  {
   "cell_type": "markdown",
   "id": "40755e2a-6b33-46e9-bd32-8eda6c4c3696",
   "metadata": {},
   "source": [
    "## 1. Join Types"
   ]
  },
  {
   "cell_type": "code",
   "execution_count": 2,
   "id": "308d11cd-0de4-4282-b088-5c898e1d6e07",
   "metadata": {
    "tags": []
   },
   "outputs": [],
   "source": [
    "person = spark.createDataFrame([\n",
    "      (0, \"Bill Chambers\", 0, [100]),\n",
    "      (1, \"Matei Zaharia\", 1, [500, 250, 100]),\n",
    "      (2, \"Michael Armbrust\", 1, [250, 100])])\\\n",
    "    .toDF(\"id\", \"name\", \"graduate_program\", \"spark_status\")\n",
    "graduateProgram = spark.createDataFrame([\n",
    "      (0, \"Masters\", \"School of Information\", \"UC Berkeley\"),\n",
    "      (2, \"Masters\", \"EECS\", \"UC Berkeley\"),\n",
    "      (1, \"Ph.D.\", \"EECS\", \"UC Berkeley\")])\\\n",
    "    .toDF(\"id\", \"degree\", \"department\", \"school\")\n",
    "sparkStatus = spark.createDataFrame([\n",
    "      (500, \"Vice President\"),\n",
    "      (250, \"PMC Member\"),\n",
    "      (100, \"Contributor\")])\\\n",
    ".toDF(\"id\", \"status\")"
   ]
  },
  {
   "cell_type": "code",
   "execution_count": 3,
   "id": "8880baa2-69a4-4a5d-9f2a-1be71a3d47da",
   "metadata": {
    "tags": []
   },
   "outputs": [
    {
     "data": {
      "text/html": [
       "<div>\n",
       "<style scoped>\n",
       "    .dataframe tbody tr th:only-of-type {\n",
       "        vertical-align: middle;\n",
       "    }\n",
       "\n",
       "    .dataframe tbody tr th {\n",
       "        vertical-align: top;\n",
       "    }\n",
       "\n",
       "    .dataframe thead th {\n",
       "        text-align: right;\n",
       "    }\n",
       "</style>\n",
       "<table border=\"1\" class=\"dataframe\">\n",
       "  <thead>\n",
       "    <tr style=\"text-align: right;\">\n",
       "      <th></th>\n",
       "      <th>id</th>\n",
       "      <th>name</th>\n",
       "      <th>graduate_program</th>\n",
       "      <th>spark_status</th>\n",
       "    </tr>\n",
       "  </thead>\n",
       "  <tbody>\n",
       "    <tr>\n",
       "      <th>0</th>\n",
       "      <td>0</td>\n",
       "      <td>Bill Chambers</td>\n",
       "      <td>0</td>\n",
       "      <td>[100]</td>\n",
       "    </tr>\n",
       "    <tr>\n",
       "      <th>1</th>\n",
       "      <td>1</td>\n",
       "      <td>Matei Zaharia</td>\n",
       "      <td>1</td>\n",
       "      <td>[500, 250, 100]</td>\n",
       "    </tr>\n",
       "    <tr>\n",
       "      <th>2</th>\n",
       "      <td>2</td>\n",
       "      <td>Michael Armbrust</td>\n",
       "      <td>1</td>\n",
       "      <td>[250, 100]</td>\n",
       "    </tr>\n",
       "  </tbody>\n",
       "</table>\n",
       "</div>"
      ],
      "text/plain": [
       "   id              name  graduate_program     spark_status\n",
       "0   0     Bill Chambers                 0            [100]\n",
       "1   1     Matei Zaharia                 1  [500, 250, 100]\n",
       "2   2  Michael Armbrust                 1       [250, 100]"
      ]
     },
     "execution_count": 3,
     "metadata": {},
     "output_type": "execute_result"
    }
   ],
   "source": [
    "person.toPandas()"
   ]
  },
  {
   "cell_type": "code",
   "execution_count": 4,
   "id": "1bf280a5-d309-436a-bbc8-0106229e5ea2",
   "metadata": {
    "tags": []
   },
   "outputs": [
    {
     "data": {
      "text/html": [
       "<div>\n",
       "<style scoped>\n",
       "    .dataframe tbody tr th:only-of-type {\n",
       "        vertical-align: middle;\n",
       "    }\n",
       "\n",
       "    .dataframe tbody tr th {\n",
       "        vertical-align: top;\n",
       "    }\n",
       "\n",
       "    .dataframe thead th {\n",
       "        text-align: right;\n",
       "    }\n",
       "</style>\n",
       "<table border=\"1\" class=\"dataframe\">\n",
       "  <thead>\n",
       "    <tr style=\"text-align: right;\">\n",
       "      <th></th>\n",
       "      <th>id</th>\n",
       "      <th>degree</th>\n",
       "      <th>department</th>\n",
       "      <th>school</th>\n",
       "    </tr>\n",
       "  </thead>\n",
       "  <tbody>\n",
       "    <tr>\n",
       "      <th>0</th>\n",
       "      <td>0</td>\n",
       "      <td>Masters</td>\n",
       "      <td>School of Information</td>\n",
       "      <td>UC Berkeley</td>\n",
       "    </tr>\n",
       "    <tr>\n",
       "      <th>1</th>\n",
       "      <td>2</td>\n",
       "      <td>Masters</td>\n",
       "      <td>EECS</td>\n",
       "      <td>UC Berkeley</td>\n",
       "    </tr>\n",
       "    <tr>\n",
       "      <th>2</th>\n",
       "      <td>1</td>\n",
       "      <td>Ph.D.</td>\n",
       "      <td>EECS</td>\n",
       "      <td>UC Berkeley</td>\n",
       "    </tr>\n",
       "  </tbody>\n",
       "</table>\n",
       "</div>"
      ],
      "text/plain": [
       "   id   degree             department       school\n",
       "0   0  Masters  School of Information  UC Berkeley\n",
       "1   2  Masters                   EECS  UC Berkeley\n",
       "2   1    Ph.D.                   EECS  UC Berkeley"
      ]
     },
     "execution_count": 4,
     "metadata": {},
     "output_type": "execute_result"
    }
   ],
   "source": [
    "graduateProgram.toPandas()"
   ]
  },
  {
   "cell_type": "code",
   "execution_count": 5,
   "id": "43cc1490-2373-4a96-965c-d237cf128aaa",
   "metadata": {
    "tags": []
   },
   "outputs": [
    {
     "data": {
      "text/html": [
       "<div>\n",
       "<style scoped>\n",
       "    .dataframe tbody tr th:only-of-type {\n",
       "        vertical-align: middle;\n",
       "    }\n",
       "\n",
       "    .dataframe tbody tr th {\n",
       "        vertical-align: top;\n",
       "    }\n",
       "\n",
       "    .dataframe thead th {\n",
       "        text-align: right;\n",
       "    }\n",
       "</style>\n",
       "<table border=\"1\" class=\"dataframe\">\n",
       "  <thead>\n",
       "    <tr style=\"text-align: right;\">\n",
       "      <th></th>\n",
       "      <th>id</th>\n",
       "      <th>status</th>\n",
       "    </tr>\n",
       "  </thead>\n",
       "  <tbody>\n",
       "    <tr>\n",
       "      <th>0</th>\n",
       "      <td>500</td>\n",
       "      <td>Vice President</td>\n",
       "    </tr>\n",
       "    <tr>\n",
       "      <th>1</th>\n",
       "      <td>250</td>\n",
       "      <td>PMC Member</td>\n",
       "    </tr>\n",
       "    <tr>\n",
       "      <th>2</th>\n",
       "      <td>100</td>\n",
       "      <td>Contributor</td>\n",
       "    </tr>\n",
       "  </tbody>\n",
       "</table>\n",
       "</div>"
      ],
      "text/plain": [
       "    id          status\n",
       "0  500  Vice President\n",
       "1  250      PMC Member\n",
       "2  100     Contributor"
      ]
     },
     "execution_count": 5,
     "metadata": {},
     "output_type": "execute_result"
    }
   ],
   "source": [
    "sparkStatus.toPandas()"
   ]
  },
  {
   "cell_type": "markdown",
   "id": "b6f2bcb2-36a4-4b66-97f8-134d4ca4c21b",
   "metadata": {},
   "source": [
    "### Inner join"
   ]
  },
  {
   "cell_type": "code",
   "execution_count": 6,
   "id": "d54be375-b57a-4536-a5a7-cc128a9cd160",
   "metadata": {
    "tags": []
   },
   "outputs": [],
   "source": [
    "joinExpression = person[\"graduate_program\"] == graduateProgram['id'] ## FK임\n",
    "wrongJoinExpression = person[\"name\"] == graduateProgram[\"school\"] ## 엉뚱쓰"
   ]
  },
  {
   "cell_type": "code",
   "execution_count": 7,
   "id": "309ccf3b-77f3-4b26-8a46-99d9d625c76d",
   "metadata": {
    "tags": []
   },
   "outputs": [
    {
     "data": {
      "text/html": [
       "<div>\n",
       "<style scoped>\n",
       "    .dataframe tbody tr th:only-of-type {\n",
       "        vertical-align: middle;\n",
       "    }\n",
       "\n",
       "    .dataframe tbody tr th {\n",
       "        vertical-align: top;\n",
       "    }\n",
       "\n",
       "    .dataframe thead th {\n",
       "        text-align: right;\n",
       "    }\n",
       "</style>\n",
       "<table border=\"1\" class=\"dataframe\">\n",
       "  <thead>\n",
       "    <tr style=\"text-align: right;\">\n",
       "      <th></th>\n",
       "      <th>id</th>\n",
       "      <th>name</th>\n",
       "      <th>graduate_program</th>\n",
       "      <th>spark_status</th>\n",
       "      <th>id</th>\n",
       "      <th>degree</th>\n",
       "      <th>department</th>\n",
       "      <th>school</th>\n",
       "    </tr>\n",
       "  </thead>\n",
       "  <tbody>\n",
       "    <tr>\n",
       "      <th>0</th>\n",
       "      <td>0</td>\n",
       "      <td>Bill Chambers</td>\n",
       "      <td>0</td>\n",
       "      <td>[100]</td>\n",
       "      <td>0</td>\n",
       "      <td>Masters</td>\n",
       "      <td>School of Information</td>\n",
       "      <td>UC Berkeley</td>\n",
       "    </tr>\n",
       "    <tr>\n",
       "      <th>1</th>\n",
       "      <td>1</td>\n",
       "      <td>Matei Zaharia</td>\n",
       "      <td>1</td>\n",
       "      <td>[500, 250, 100]</td>\n",
       "      <td>1</td>\n",
       "      <td>Ph.D.</td>\n",
       "      <td>EECS</td>\n",
       "      <td>UC Berkeley</td>\n",
       "    </tr>\n",
       "    <tr>\n",
       "      <th>2</th>\n",
       "      <td>2</td>\n",
       "      <td>Michael Armbrust</td>\n",
       "      <td>1</td>\n",
       "      <td>[250, 100]</td>\n",
       "      <td>1</td>\n",
       "      <td>Ph.D.</td>\n",
       "      <td>EECS</td>\n",
       "      <td>UC Berkeley</td>\n",
       "    </tr>\n",
       "  </tbody>\n",
       "</table>\n",
       "</div>"
      ],
      "text/plain": [
       "   id              name  graduate_program     spark_status  id   degree  \\\n",
       "0   0     Bill Chambers                 0            [100]   0  Masters   \n",
       "1   1     Matei Zaharia                 1  [500, 250, 100]   1    Ph.D.   \n",
       "2   2  Michael Armbrust                 1       [250, 100]   1    Ph.D.   \n",
       "\n",
       "              department       school  \n",
       "0  School of Information  UC Berkeley  \n",
       "1                   EECS  UC Berkeley  \n",
       "2                   EECS  UC Berkeley  "
      ]
     },
     "execution_count": 7,
     "metadata": {},
     "output_type": "execute_result"
    }
   ],
   "source": [
    "person.join(graduateProgram, joinExpression).toPandas()"
   ]
  },
  {
   "cell_type": "code",
   "execution_count": 8,
   "id": "1ecfcb56-7389-44b4-8a10-4aede1b3daa3",
   "metadata": {
    "tags": []
   },
   "outputs": [
    {
     "data": {
      "text/html": [
       "<div>\n",
       "<style scoped>\n",
       "    .dataframe tbody tr th:only-of-type {\n",
       "        vertical-align: middle;\n",
       "    }\n",
       "\n",
       "    .dataframe tbody tr th {\n",
       "        vertical-align: top;\n",
       "    }\n",
       "\n",
       "    .dataframe thead th {\n",
       "        text-align: right;\n",
       "    }\n",
       "</style>\n",
       "<table border=\"1\" class=\"dataframe\">\n",
       "  <thead>\n",
       "    <tr style=\"text-align: right;\">\n",
       "      <th></th>\n",
       "      <th>id</th>\n",
       "      <th>name</th>\n",
       "      <th>graduate_program</th>\n",
       "      <th>spark_status</th>\n",
       "      <th>id</th>\n",
       "      <th>degree</th>\n",
       "      <th>department</th>\n",
       "      <th>school</th>\n",
       "    </tr>\n",
       "  </thead>\n",
       "  <tbody>\n",
       "    <tr>\n",
       "      <th>0</th>\n",
       "      <td>0</td>\n",
       "      <td>Bill Chambers</td>\n",
       "      <td>0</td>\n",
       "      <td>[100]</td>\n",
       "      <td>0</td>\n",
       "      <td>Masters</td>\n",
       "      <td>School of Information</td>\n",
       "      <td>UC Berkeley</td>\n",
       "    </tr>\n",
       "    <tr>\n",
       "      <th>1</th>\n",
       "      <td>1</td>\n",
       "      <td>Matei Zaharia</td>\n",
       "      <td>1</td>\n",
       "      <td>[500, 250, 100]</td>\n",
       "      <td>1</td>\n",
       "      <td>Ph.D.</td>\n",
       "      <td>EECS</td>\n",
       "      <td>UC Berkeley</td>\n",
       "    </tr>\n",
       "    <tr>\n",
       "      <th>2</th>\n",
       "      <td>2</td>\n",
       "      <td>Michael Armbrust</td>\n",
       "      <td>1</td>\n",
       "      <td>[250, 100]</td>\n",
       "      <td>1</td>\n",
       "      <td>Ph.D.</td>\n",
       "      <td>EECS</td>\n",
       "      <td>UC Berkeley</td>\n",
       "    </tr>\n",
       "  </tbody>\n",
       "</table>\n",
       "</div>"
      ],
      "text/plain": [
       "   id              name  graduate_program     spark_status  id   degree  \\\n",
       "0   0     Bill Chambers                 0            [100]   0  Masters   \n",
       "1   1     Matei Zaharia                 1  [500, 250, 100]   1    Ph.D.   \n",
       "2   2  Michael Armbrust                 1       [250, 100]   1    Ph.D.   \n",
       "\n",
       "              department       school  \n",
       "0  School of Information  UC Berkeley  \n",
       "1                   EECS  UC Berkeley  \n",
       "2                   EECS  UC Berkeley  "
      ]
     },
     "execution_count": 8,
     "metadata": {},
     "output_type": "execute_result"
    }
   ],
   "source": [
    "## type 명시도 가능\n",
    "joinType = \"inner\"\n",
    "person.join(graduateProgram, joinExpression, joinType).toPandas()"
   ]
  },
  {
   "cell_type": "markdown",
   "id": "f99f6b16-c291-42fd-8b6f-4f450dc60200",
   "metadata": {},
   "source": [
    "### Outer join"
   ]
  },
  {
   "cell_type": "code",
   "execution_count": 9,
   "id": "e8a9679a-cc61-49da-b498-92d6565c1ce7",
   "metadata": {
    "tags": []
   },
   "outputs": [
    {
     "data": {
      "text/html": [
       "<div>\n",
       "<style scoped>\n",
       "    .dataframe tbody tr th:only-of-type {\n",
       "        vertical-align: middle;\n",
       "    }\n",
       "\n",
       "    .dataframe tbody tr th {\n",
       "        vertical-align: top;\n",
       "    }\n",
       "\n",
       "    .dataframe thead th {\n",
       "        text-align: right;\n",
       "    }\n",
       "</style>\n",
       "<table border=\"1\" class=\"dataframe\">\n",
       "  <thead>\n",
       "    <tr style=\"text-align: right;\">\n",
       "      <th></th>\n",
       "      <th>id</th>\n",
       "      <th>name</th>\n",
       "      <th>graduate_program</th>\n",
       "      <th>spark_status</th>\n",
       "      <th>id</th>\n",
       "      <th>degree</th>\n",
       "      <th>department</th>\n",
       "      <th>school</th>\n",
       "    </tr>\n",
       "  </thead>\n",
       "  <tbody>\n",
       "    <tr>\n",
       "      <th>0</th>\n",
       "      <td>0.0</td>\n",
       "      <td>Bill Chambers</td>\n",
       "      <td>0.0</td>\n",
       "      <td>[100]</td>\n",
       "      <td>0</td>\n",
       "      <td>Masters</td>\n",
       "      <td>School of Information</td>\n",
       "      <td>UC Berkeley</td>\n",
       "    </tr>\n",
       "    <tr>\n",
       "      <th>1</th>\n",
       "      <td>1.0</td>\n",
       "      <td>Matei Zaharia</td>\n",
       "      <td>1.0</td>\n",
       "      <td>[500, 250, 100]</td>\n",
       "      <td>1</td>\n",
       "      <td>Ph.D.</td>\n",
       "      <td>EECS</td>\n",
       "      <td>UC Berkeley</td>\n",
       "    </tr>\n",
       "    <tr>\n",
       "      <th>2</th>\n",
       "      <td>2.0</td>\n",
       "      <td>Michael Armbrust</td>\n",
       "      <td>1.0</td>\n",
       "      <td>[250, 100]</td>\n",
       "      <td>1</td>\n",
       "      <td>Ph.D.</td>\n",
       "      <td>EECS</td>\n",
       "      <td>UC Berkeley</td>\n",
       "    </tr>\n",
       "    <tr>\n",
       "      <th>3</th>\n",
       "      <td>NaN</td>\n",
       "      <td>None</td>\n",
       "      <td>NaN</td>\n",
       "      <td>None</td>\n",
       "      <td>2</td>\n",
       "      <td>Masters</td>\n",
       "      <td>EECS</td>\n",
       "      <td>UC Berkeley</td>\n",
       "    </tr>\n",
       "  </tbody>\n",
       "</table>\n",
       "</div>"
      ],
      "text/plain": [
       "    id              name  graduate_program     spark_status  id   degree  \\\n",
       "0  0.0     Bill Chambers               0.0            [100]   0  Masters   \n",
       "1  1.0     Matei Zaharia               1.0  [500, 250, 100]   1    Ph.D.   \n",
       "2  2.0  Michael Armbrust               1.0       [250, 100]   1    Ph.D.   \n",
       "3  NaN              None               NaN             None   2  Masters   \n",
       "\n",
       "              department       school  \n",
       "0  School of Information  UC Berkeley  \n",
       "1                   EECS  UC Berkeley  \n",
       "2                   EECS  UC Berkeley  \n",
       "3                   EECS  UC Berkeley  "
      ]
     },
     "execution_count": 9,
     "metadata": {},
     "output_type": "execute_result"
    }
   ],
   "source": [
    "joinType = \"outer\"\n",
    "person.join(graduateProgram, joinExpression, joinType).toPandas()"
   ]
  },
  {
   "cell_type": "markdown",
   "id": "ba9d7de0-c8f8-4d96-a54e-bfb0d1f9cd0f",
   "metadata": {},
   "source": [
    "### Left Outer Joins"
   ]
  },
  {
   "cell_type": "code",
   "execution_count": 10,
   "id": "5b0f82ec-cac2-443b-99c2-d4ec466923aa",
   "metadata": {
    "tags": []
   },
   "outputs": [
    {
     "data": {
      "text/html": [
       "<div>\n",
       "<style scoped>\n",
       "    .dataframe tbody tr th:only-of-type {\n",
       "        vertical-align: middle;\n",
       "    }\n",
       "\n",
       "    .dataframe tbody tr th {\n",
       "        vertical-align: top;\n",
       "    }\n",
       "\n",
       "    .dataframe thead th {\n",
       "        text-align: right;\n",
       "    }\n",
       "</style>\n",
       "<table border=\"1\" class=\"dataframe\">\n",
       "  <thead>\n",
       "    <tr style=\"text-align: right;\">\n",
       "      <th></th>\n",
       "      <th>id</th>\n",
       "      <th>degree</th>\n",
       "      <th>department</th>\n",
       "      <th>school</th>\n",
       "      <th>id</th>\n",
       "      <th>name</th>\n",
       "      <th>graduate_program</th>\n",
       "      <th>spark_status</th>\n",
       "    </tr>\n",
       "  </thead>\n",
       "  <tbody>\n",
       "    <tr>\n",
       "      <th>0</th>\n",
       "      <td>0</td>\n",
       "      <td>Masters</td>\n",
       "      <td>School of Information</td>\n",
       "      <td>UC Berkeley</td>\n",
       "      <td>0.0</td>\n",
       "      <td>Bill Chambers</td>\n",
       "      <td>0.0</td>\n",
       "      <td>[100]</td>\n",
       "    </tr>\n",
       "    <tr>\n",
       "      <th>1</th>\n",
       "      <td>2</td>\n",
       "      <td>Masters</td>\n",
       "      <td>EECS</td>\n",
       "      <td>UC Berkeley</td>\n",
       "      <td>NaN</td>\n",
       "      <td>None</td>\n",
       "      <td>NaN</td>\n",
       "      <td>None</td>\n",
       "    </tr>\n",
       "    <tr>\n",
       "      <th>2</th>\n",
       "      <td>1</td>\n",
       "      <td>Ph.D.</td>\n",
       "      <td>EECS</td>\n",
       "      <td>UC Berkeley</td>\n",
       "      <td>2.0</td>\n",
       "      <td>Michael Armbrust</td>\n",
       "      <td>1.0</td>\n",
       "      <td>[250, 100]</td>\n",
       "    </tr>\n",
       "    <tr>\n",
       "      <th>3</th>\n",
       "      <td>1</td>\n",
       "      <td>Ph.D.</td>\n",
       "      <td>EECS</td>\n",
       "      <td>UC Berkeley</td>\n",
       "      <td>1.0</td>\n",
       "      <td>Matei Zaharia</td>\n",
       "      <td>1.0</td>\n",
       "      <td>[500, 250, 100]</td>\n",
       "    </tr>\n",
       "  </tbody>\n",
       "</table>\n",
       "</div>"
      ],
      "text/plain": [
       "   id   degree             department       school   id              name  \\\n",
       "0   0  Masters  School of Information  UC Berkeley  0.0     Bill Chambers   \n",
       "1   2  Masters                   EECS  UC Berkeley  NaN              None   \n",
       "2   1    Ph.D.                   EECS  UC Berkeley  2.0  Michael Armbrust   \n",
       "3   1    Ph.D.                   EECS  UC Berkeley  1.0     Matei Zaharia   \n",
       "\n",
       "   graduate_program     spark_status  \n",
       "0               0.0            [100]  \n",
       "1               NaN             None  \n",
       "2               1.0       [250, 100]  \n",
       "3               1.0  [500, 250, 100]  "
      ]
     },
     "execution_count": 10,
     "metadata": {},
     "output_type": "execute_result"
    }
   ],
   "source": [
    "joinType = \"left_outer\"\n",
    "graduateProgram.join(person, joinExpression, joinType).toPandas()"
   ]
  },
  {
   "cell_type": "markdown",
   "id": "000f7af0-5f5a-4dab-a911-9fa2018fe630",
   "metadata": {},
   "source": [
    "### Right Outer Joins"
   ]
  },
  {
   "cell_type": "code",
   "execution_count": 11,
   "id": "e2cf0611-9f34-4ba6-a86d-90df3fabb94b",
   "metadata": {
    "tags": []
   },
   "outputs": [
    {
     "data": {
      "text/html": [
       "<div>\n",
       "<style scoped>\n",
       "    .dataframe tbody tr th:only-of-type {\n",
       "        vertical-align: middle;\n",
       "    }\n",
       "\n",
       "    .dataframe tbody tr th {\n",
       "        vertical-align: top;\n",
       "    }\n",
       "\n",
       "    .dataframe thead th {\n",
       "        text-align: right;\n",
       "    }\n",
       "</style>\n",
       "<table border=\"1\" class=\"dataframe\">\n",
       "  <thead>\n",
       "    <tr style=\"text-align: right;\">\n",
       "      <th></th>\n",
       "      <th>id</th>\n",
       "      <th>name</th>\n",
       "      <th>graduate_program</th>\n",
       "      <th>spark_status</th>\n",
       "      <th>id</th>\n",
       "      <th>degree</th>\n",
       "      <th>department</th>\n",
       "      <th>school</th>\n",
       "    </tr>\n",
       "  </thead>\n",
       "  <tbody>\n",
       "    <tr>\n",
       "      <th>0</th>\n",
       "      <td>0.0</td>\n",
       "      <td>Bill Chambers</td>\n",
       "      <td>0.0</td>\n",
       "      <td>[100]</td>\n",
       "      <td>0</td>\n",
       "      <td>Masters</td>\n",
       "      <td>School of Information</td>\n",
       "      <td>UC Berkeley</td>\n",
       "    </tr>\n",
       "    <tr>\n",
       "      <th>1</th>\n",
       "      <td>NaN</td>\n",
       "      <td>None</td>\n",
       "      <td>NaN</td>\n",
       "      <td>None</td>\n",
       "      <td>2</td>\n",
       "      <td>Masters</td>\n",
       "      <td>EECS</td>\n",
       "      <td>UC Berkeley</td>\n",
       "    </tr>\n",
       "    <tr>\n",
       "      <th>2</th>\n",
       "      <td>2.0</td>\n",
       "      <td>Michael Armbrust</td>\n",
       "      <td>1.0</td>\n",
       "      <td>[250, 100]</td>\n",
       "      <td>1</td>\n",
       "      <td>Ph.D.</td>\n",
       "      <td>EECS</td>\n",
       "      <td>UC Berkeley</td>\n",
       "    </tr>\n",
       "    <tr>\n",
       "      <th>3</th>\n",
       "      <td>1.0</td>\n",
       "      <td>Matei Zaharia</td>\n",
       "      <td>1.0</td>\n",
       "      <td>[500, 250, 100]</td>\n",
       "      <td>1</td>\n",
       "      <td>Ph.D.</td>\n",
       "      <td>EECS</td>\n",
       "      <td>UC Berkeley</td>\n",
       "    </tr>\n",
       "  </tbody>\n",
       "</table>\n",
       "</div>"
      ],
      "text/plain": [
       "    id              name  graduate_program     spark_status  id   degree  \\\n",
       "0  0.0     Bill Chambers               0.0            [100]   0  Masters   \n",
       "1  NaN              None               NaN             None   2  Masters   \n",
       "2  2.0  Michael Armbrust               1.0       [250, 100]   1    Ph.D.   \n",
       "3  1.0     Matei Zaharia               1.0  [500, 250, 100]   1    Ph.D.   \n",
       "\n",
       "              department       school  \n",
       "0  School of Information  UC Berkeley  \n",
       "1                   EECS  UC Berkeley  \n",
       "2                   EECS  UC Berkeley  \n",
       "3                   EECS  UC Berkeley  "
      ]
     },
     "execution_count": 11,
     "metadata": {},
     "output_type": "execute_result"
    }
   ],
   "source": [
    "## 위와 같음\n",
    "joinType = \"right_outer\"\n",
    "person.join(graduateProgram, joinExpression, joinType).toPandas()"
   ]
  },
  {
   "cell_type": "markdown",
   "id": "f7d9d63b-cd94-453e-bcce-b1b369f80ce4",
   "metadata": {},
   "source": [
    "### Left Semi Joins\n",
    "- 오른쪽 데이터 프레임의 값은 포함하지 않는다\n",
    "- 두 번째 데이터 프레임에 값이 있는지 확인하기 위해 비교"
   ]
  },
  {
   "cell_type": "code",
   "execution_count": 12,
   "id": "40e92794-ef3a-4ded-89e4-fd15a48c458d",
   "metadata": {
    "tags": []
   },
   "outputs": [
    {
     "data": {
      "text/html": [
       "<div>\n",
       "<style scoped>\n",
       "    .dataframe tbody tr th:only-of-type {\n",
       "        vertical-align: middle;\n",
       "    }\n",
       "\n",
       "    .dataframe tbody tr th {\n",
       "        vertical-align: top;\n",
       "    }\n",
       "\n",
       "    .dataframe thead th {\n",
       "        text-align: right;\n",
       "    }\n",
       "</style>\n",
       "<table border=\"1\" class=\"dataframe\">\n",
       "  <thead>\n",
       "    <tr style=\"text-align: right;\">\n",
       "      <th></th>\n",
       "      <th>id</th>\n",
       "      <th>degree</th>\n",
       "      <th>department</th>\n",
       "      <th>school</th>\n",
       "    </tr>\n",
       "  </thead>\n",
       "  <tbody>\n",
       "    <tr>\n",
       "      <th>0</th>\n",
       "      <td>0</td>\n",
       "      <td>Masters</td>\n",
       "      <td>School of Information</td>\n",
       "      <td>UC Berkeley</td>\n",
       "    </tr>\n",
       "    <tr>\n",
       "      <th>1</th>\n",
       "      <td>1</td>\n",
       "      <td>Ph.D.</td>\n",
       "      <td>EECS</td>\n",
       "      <td>UC Berkeley</td>\n",
       "    </tr>\n",
       "  </tbody>\n",
       "</table>\n",
       "</div>"
      ],
      "text/plain": [
       "   id   degree             department       school\n",
       "0   0  Masters  School of Information  UC Berkeley\n",
       "1   1    Ph.D.                   EECS  UC Berkeley"
      ]
     },
     "execution_count": 12,
     "metadata": {},
     "output_type": "execute_result"
    }
   ],
   "source": [
    "joinType = \"left_semi\"\n",
    "graduateProgram.join(person, joinExpression, joinType).toPandas() ## graduate로 비교"
   ]
  },
  {
   "cell_type": "code",
   "execution_count": 13,
   "id": "b87ff015-945c-4365-b4e7-c6e3f27b61f1",
   "metadata": {
    "tags": []
   },
   "outputs": [
    {
     "data": {
      "text/html": [
       "<div>\n",
       "<style scoped>\n",
       "    .dataframe tbody tr th:only-of-type {\n",
       "        vertical-align: middle;\n",
       "    }\n",
       "\n",
       "    .dataframe tbody tr th {\n",
       "        vertical-align: top;\n",
       "    }\n",
       "\n",
       "    .dataframe thead th {\n",
       "        text-align: right;\n",
       "    }\n",
       "</style>\n",
       "<table border=\"1\" class=\"dataframe\">\n",
       "  <thead>\n",
       "    <tr style=\"text-align: right;\">\n",
       "      <th></th>\n",
       "      <th>id</th>\n",
       "      <th>degree</th>\n",
       "      <th>department</th>\n",
       "      <th>school</th>\n",
       "    </tr>\n",
       "  </thead>\n",
       "  <tbody>\n",
       "    <tr>\n",
       "      <th>0</th>\n",
       "      <td>0</td>\n",
       "      <td>Masters</td>\n",
       "      <td>School of Information</td>\n",
       "      <td>UC Berkeley</td>\n",
       "    </tr>\n",
       "    <tr>\n",
       "      <th>1</th>\n",
       "      <td>2</td>\n",
       "      <td>Masters</td>\n",
       "      <td>EECS</td>\n",
       "      <td>UC Berkeley</td>\n",
       "    </tr>\n",
       "    <tr>\n",
       "      <th>2</th>\n",
       "      <td>1</td>\n",
       "      <td>Ph.D.</td>\n",
       "      <td>EECS</td>\n",
       "      <td>UC Berkeley</td>\n",
       "    </tr>\n",
       "  </tbody>\n",
       "</table>\n",
       "</div>"
      ],
      "text/plain": [
       "   id   degree             department       school\n",
       "0   0  Masters  School of Information  UC Berkeley\n",
       "1   2  Masters                   EECS  UC Berkeley\n",
       "2   1    Ph.D.                   EECS  UC Berkeley"
      ]
     },
     "execution_count": 13,
     "metadata": {},
     "output_type": "execute_result"
    }
   ],
   "source": [
    "graduateProgram.toPandas()"
   ]
  },
  {
   "cell_type": "code",
   "execution_count": 14,
   "id": "92b8d149-a14e-4a05-ab10-1cefff43f922",
   "metadata": {
    "tags": []
   },
   "outputs": [
    {
     "data": {
      "text/html": [
       "<div>\n",
       "<style scoped>\n",
       "    .dataframe tbody tr th:only-of-type {\n",
       "        vertical-align: middle;\n",
       "    }\n",
       "\n",
       "    .dataframe tbody tr th {\n",
       "        vertical-align: top;\n",
       "    }\n",
       "\n",
       "    .dataframe thead th {\n",
       "        text-align: right;\n",
       "    }\n",
       "</style>\n",
       "<table border=\"1\" class=\"dataframe\">\n",
       "  <thead>\n",
       "    <tr style=\"text-align: right;\">\n",
       "      <th></th>\n",
       "      <th>id</th>\n",
       "      <th>name</th>\n",
       "      <th>graduate_program</th>\n",
       "      <th>spark_status</th>\n",
       "    </tr>\n",
       "  </thead>\n",
       "  <tbody>\n",
       "    <tr>\n",
       "      <th>0</th>\n",
       "      <td>0</td>\n",
       "      <td>Bill Chambers</td>\n",
       "      <td>0</td>\n",
       "      <td>[100]</td>\n",
       "    </tr>\n",
       "    <tr>\n",
       "      <th>1</th>\n",
       "      <td>1</td>\n",
       "      <td>Matei Zaharia</td>\n",
       "      <td>1</td>\n",
       "      <td>[500, 250, 100]</td>\n",
       "    </tr>\n",
       "    <tr>\n",
       "      <th>2</th>\n",
       "      <td>2</td>\n",
       "      <td>Michael Armbrust</td>\n",
       "      <td>1</td>\n",
       "      <td>[250, 100]</td>\n",
       "    </tr>\n",
       "  </tbody>\n",
       "</table>\n",
       "</div>"
      ],
      "text/plain": [
       "   id              name  graduate_program     spark_status\n",
       "0   0     Bill Chambers                 0            [100]\n",
       "1   1     Matei Zaharia                 1  [500, 250, 100]\n",
       "2   2  Michael Armbrust                 1       [250, 100]"
      ]
     },
     "execution_count": 14,
     "metadata": {},
     "output_type": "execute_result"
    }
   ],
   "source": [
    "person.toPandas() ## graduate_program이 여기 0, 1만 있다"
   ]
  },
  {
   "cell_type": "code",
   "execution_count": 15,
   "id": "bdc39ff0-ac4b-47d3-a25c-0380ddf07c5d",
   "metadata": {
    "tags": []
   },
   "outputs": [
    {
     "data": {
      "text/html": [
       "<div>\n",
       "<style scoped>\n",
       "    .dataframe tbody tr th:only-of-type {\n",
       "        vertical-align: middle;\n",
       "    }\n",
       "\n",
       "    .dataframe tbody tr th {\n",
       "        vertical-align: top;\n",
       "    }\n",
       "\n",
       "    .dataframe thead th {\n",
       "        text-align: right;\n",
       "    }\n",
       "</style>\n",
       "<table border=\"1\" class=\"dataframe\">\n",
       "  <thead>\n",
       "    <tr style=\"text-align: right;\">\n",
       "      <th></th>\n",
       "      <th>id</th>\n",
       "      <th>degree</th>\n",
       "      <th>department</th>\n",
       "      <th>school</th>\n",
       "    </tr>\n",
       "  </thead>\n",
       "  <tbody>\n",
       "    <tr>\n",
       "      <th>0</th>\n",
       "      <td>0</td>\n",
       "      <td>Masters</td>\n",
       "      <td>School of Information</td>\n",
       "      <td>UC Berkeley</td>\n",
       "    </tr>\n",
       "    <tr>\n",
       "      <th>1</th>\n",
       "      <td>2</td>\n",
       "      <td>Masters</td>\n",
       "      <td>EECS</td>\n",
       "      <td>UC Berkeley</td>\n",
       "    </tr>\n",
       "    <tr>\n",
       "      <th>2</th>\n",
       "      <td>1</td>\n",
       "      <td>Ph.D.</td>\n",
       "      <td>EECS</td>\n",
       "      <td>UC Berkeley</td>\n",
       "    </tr>\n",
       "    <tr>\n",
       "      <th>3</th>\n",
       "      <td>0</td>\n",
       "      <td>Masters</td>\n",
       "      <td>Duplicated Row</td>\n",
       "      <td>Duplicated School</td>\n",
       "    </tr>\n",
       "  </tbody>\n",
       "</table>\n",
       "</div>"
      ],
      "text/plain": [
       "   id   degree             department             school\n",
       "0   0  Masters  School of Information        UC Berkeley\n",
       "1   2  Masters                   EECS        UC Berkeley\n",
       "2   1    Ph.D.                   EECS        UC Berkeley\n",
       "3   0  Masters         Duplicated Row  Duplicated School"
      ]
     },
     "execution_count": 15,
     "metadata": {},
     "output_type": "execute_result"
    }
   ],
   "source": [
    "gradProgram2 = graduateProgram.union(spark.createDataFrame([\n",
    "  (0, \"Masters\", \"Duplicated Row\", \"Duplicated School\")]))\n",
    "gradProgram2.createOrReplaceTempView(\"gradProgram2\")\n",
    "gradProgram2.toPandas()"
   ]
  },
  {
   "cell_type": "code",
   "execution_count": 16,
   "id": "ed14630c-396c-4765-b2f6-4de7fde70d8c",
   "metadata": {
    "tags": []
   },
   "outputs": [
    {
     "data": {
      "text/html": [
       "<div>\n",
       "<style scoped>\n",
       "    .dataframe tbody tr th:only-of-type {\n",
       "        vertical-align: middle;\n",
       "    }\n",
       "\n",
       "    .dataframe tbody tr th {\n",
       "        vertical-align: top;\n",
       "    }\n",
       "\n",
       "    .dataframe thead th {\n",
       "        text-align: right;\n",
       "    }\n",
       "</style>\n",
       "<table border=\"1\" class=\"dataframe\">\n",
       "  <thead>\n",
       "    <tr style=\"text-align: right;\">\n",
       "      <th></th>\n",
       "      <th>id</th>\n",
       "      <th>degree</th>\n",
       "      <th>department</th>\n",
       "      <th>school</th>\n",
       "    </tr>\n",
       "  </thead>\n",
       "  <tbody>\n",
       "    <tr>\n",
       "      <th>0</th>\n",
       "      <td>0</td>\n",
       "      <td>Masters</td>\n",
       "      <td>School of Information</td>\n",
       "      <td>UC Berkeley</td>\n",
       "    </tr>\n",
       "    <tr>\n",
       "      <th>1</th>\n",
       "      <td>1</td>\n",
       "      <td>Ph.D.</td>\n",
       "      <td>EECS</td>\n",
       "      <td>UC Berkeley</td>\n",
       "    </tr>\n",
       "    <tr>\n",
       "      <th>2</th>\n",
       "      <td>0</td>\n",
       "      <td>Masters</td>\n",
       "      <td>Duplicated Row</td>\n",
       "      <td>Duplicated School</td>\n",
       "    </tr>\n",
       "  </tbody>\n",
       "</table>\n",
       "</div>"
      ],
      "text/plain": [
       "   id   degree             department             school\n",
       "0   0  Masters  School of Information        UC Berkeley\n",
       "1   1    Ph.D.                   EECS        UC Berkeley\n",
       "2   0  Masters         Duplicated Row  Duplicated School"
      ]
     },
     "execution_count": 16,
     "metadata": {},
     "output_type": "execute_result"
    }
   ],
   "source": [
    "## graduate_program이 여기 0, 1만 있다. dupl은 상관하지 않는다.\n",
    "gradProgram2.join(person, joinExpression, joinType).toPandas()"
   ]
  },
  {
   "cell_type": "markdown",
   "id": "3d8afc2b-67c2-4784-a118-35d19df8fee4",
   "metadata": {},
   "source": [
    "### Left Anti Joins\n",
    "- semi와 비슷하지만 거꾸로, 오른쪽 데이터 프레임에 값이 없는 경우만 살린다"
   ]
  },
  {
   "cell_type": "code",
   "execution_count": 17,
   "id": "495b73b0-96fb-4719-b2aa-b309380e3705",
   "metadata": {
    "tags": []
   },
   "outputs": [
    {
     "data": {
      "text/html": [
       "<div>\n",
       "<style scoped>\n",
       "    .dataframe tbody tr th:only-of-type {\n",
       "        vertical-align: middle;\n",
       "    }\n",
       "\n",
       "    .dataframe tbody tr th {\n",
       "        vertical-align: top;\n",
       "    }\n",
       "\n",
       "    .dataframe thead th {\n",
       "        text-align: right;\n",
       "    }\n",
       "</style>\n",
       "<table border=\"1\" class=\"dataframe\">\n",
       "  <thead>\n",
       "    <tr style=\"text-align: right;\">\n",
       "      <th></th>\n",
       "      <th>id</th>\n",
       "      <th>degree</th>\n",
       "      <th>department</th>\n",
       "      <th>school</th>\n",
       "    </tr>\n",
       "  </thead>\n",
       "  <tbody>\n",
       "    <tr>\n",
       "      <th>0</th>\n",
       "      <td>2</td>\n",
       "      <td>Masters</td>\n",
       "      <td>EECS</td>\n",
       "      <td>UC Berkeley</td>\n",
       "    </tr>\n",
       "  </tbody>\n",
       "</table>\n",
       "</div>"
      ],
      "text/plain": [
       "   id   degree department       school\n",
       "0   2  Masters       EECS  UC Berkeley"
      ]
     },
     "execution_count": 17,
     "metadata": {},
     "output_type": "execute_result"
    }
   ],
   "source": [
    "joinType = \"left_anti\"\n",
    "graduateProgram.join(person, joinExpression, joinType).toPandas()"
   ]
  },
  {
   "cell_type": "markdown",
   "id": "87e2dbd0-207a-4d86-a904-9da48167c354",
   "metadata": {},
   "source": [
    "### Natural Joins\n",
    "- 키가 될 열을 암묵Implicit적으로 추측\n",
    "- 암묵Implicit적인 건 항상 위험하니 **조심**. 아래는 틀린 Join expression\n",
    "```SELECT * FROM graduateProgram NATURAL JOIN person```"
   ]
  },
  {
   "cell_type": "code",
   "execution_count": 18,
   "id": "fb5c5bb3-bb99-4383-9bb5-a027632ffb04",
   "metadata": {
    "tags": []
   },
   "outputs": [
    {
     "data": {
      "text/html": [
       "<div>\n",
       "<style scoped>\n",
       "    .dataframe tbody tr th:only-of-type {\n",
       "        vertical-align: middle;\n",
       "    }\n",
       "\n",
       "    .dataframe tbody tr th {\n",
       "        vertical-align: top;\n",
       "    }\n",
       "\n",
       "    .dataframe thead th {\n",
       "        text-align: right;\n",
       "    }\n",
       "</style>\n",
       "<table border=\"1\" class=\"dataframe\">\n",
       "  <thead>\n",
       "    <tr style=\"text-align: right;\">\n",
       "      <th></th>\n",
       "      <th>id</th>\n",
       "      <th>degree</th>\n",
       "      <th>department</th>\n",
       "      <th>school</th>\n",
       "      <th>name</th>\n",
       "      <th>graduate_program</th>\n",
       "      <th>spark_status</th>\n",
       "    </tr>\n",
       "  </thead>\n",
       "  <tbody>\n",
       "    <tr>\n",
       "      <th>0</th>\n",
       "      <td>0</td>\n",
       "      <td>Masters</td>\n",
       "      <td>School of Information</td>\n",
       "      <td>UC Berkeley</td>\n",
       "      <td>Bill Chambers</td>\n",
       "      <td>0</td>\n",
       "      <td>[100]</td>\n",
       "    </tr>\n",
       "    <tr>\n",
       "      <th>1</th>\n",
       "      <td>1</td>\n",
       "      <td>Ph.D.</td>\n",
       "      <td>EECS</td>\n",
       "      <td>UC Berkeley</td>\n",
       "      <td>Matei Zaharia</td>\n",
       "      <td>1</td>\n",
       "      <td>[500, 250, 100]</td>\n",
       "    </tr>\n",
       "    <tr>\n",
       "      <th>2</th>\n",
       "      <td>2</td>\n",
       "      <td>Masters</td>\n",
       "      <td>EECS</td>\n",
       "      <td>UC Berkeley</td>\n",
       "      <td>Michael Armbrust</td>\n",
       "      <td>1</td>\n",
       "      <td>[250, 100]</td>\n",
       "    </tr>\n",
       "  </tbody>\n",
       "</table>\n",
       "</div>"
      ],
      "text/plain": [
       "   id   degree             department       school              name  \\\n",
       "0   0  Masters  School of Information  UC Berkeley     Bill Chambers   \n",
       "1   1    Ph.D.                   EECS  UC Berkeley     Matei Zaharia   \n",
       "2   2  Masters                   EECS  UC Berkeley  Michael Armbrust   \n",
       "\n",
       "   graduate_program     spark_status  \n",
       "0                 0            [100]  \n",
       "1                 1  [500, 250, 100]  \n",
       "2                 1       [250, 100]  "
      ]
     },
     "execution_count": 18,
     "metadata": {},
     "output_type": "execute_result"
    }
   ],
   "source": [
    "graduateProgram.createOrReplaceTempView(\"graduateProgram\")\n",
    "person.createOrReplaceTempView(\"person\")\n",
    "spark.sql(\"SELECT * FROM graduateProgram NATURAL JOIN person\").toPandas()"
   ]
  },
  {
   "cell_type": "markdown",
   "id": "a354e919-7ac5-48cd-8014-edc63794e38b",
   "metadata": {},
   "source": [
    "### Cross (Catesian) Join\n",
    "- Key가 따로 없이 결합\n",
    "- 왼쪽 데이터 프레임의 모든 행에, 오른쪽 데이터 프레임의 모든 행을 결합\n",
    "- 각 데이터 프레임이 N, M개의 행을 가진다면, 교차 결합시 N*M개의 행이 된다\n",
    "- 수가 폭발적으로 증가하니 조심해서 사용. 100% 확실할 때만 사용할 것.\n",
    "- 고급 사용자는 session-level의 configuration에서 spark.sql.crossJoin.enable를 True로 설정할 수 있다"
   ]
  },
  {
   "cell_type": "code",
   "execution_count": 19,
   "id": "8aa46500-1033-4555-87f6-bf449999e31a",
   "metadata": {
    "tags": []
   },
   "outputs": [
    {
     "data": {
      "text/html": [
       "<div>\n",
       "<style scoped>\n",
       "    .dataframe tbody tr th:only-of-type {\n",
       "        vertical-align: middle;\n",
       "    }\n",
       "\n",
       "    .dataframe tbody tr th {\n",
       "        vertical-align: top;\n",
       "    }\n",
       "\n",
       "    .dataframe thead th {\n",
       "        text-align: right;\n",
       "    }\n",
       "</style>\n",
       "<table border=\"1\" class=\"dataframe\">\n",
       "  <thead>\n",
       "    <tr style=\"text-align: right;\">\n",
       "      <th></th>\n",
       "      <th>id</th>\n",
       "      <th>degree</th>\n",
       "      <th>department</th>\n",
       "      <th>school</th>\n",
       "      <th>id</th>\n",
       "      <th>name</th>\n",
       "      <th>graduate_program</th>\n",
       "      <th>spark_status</th>\n",
       "    </tr>\n",
       "  </thead>\n",
       "  <tbody>\n",
       "    <tr>\n",
       "      <th>0</th>\n",
       "      <td>0</td>\n",
       "      <td>Masters</td>\n",
       "      <td>School of Information</td>\n",
       "      <td>UC Berkeley</td>\n",
       "      <td>0</td>\n",
       "      <td>Bill Chambers</td>\n",
       "      <td>0</td>\n",
       "      <td>[100]</td>\n",
       "    </tr>\n",
       "    <tr>\n",
       "      <th>1</th>\n",
       "      <td>1</td>\n",
       "      <td>Ph.D.</td>\n",
       "      <td>EECS</td>\n",
       "      <td>UC Berkeley</td>\n",
       "      <td>1</td>\n",
       "      <td>Matei Zaharia</td>\n",
       "      <td>1</td>\n",
       "      <td>[500, 250, 100]</td>\n",
       "    </tr>\n",
       "    <tr>\n",
       "      <th>2</th>\n",
       "      <td>1</td>\n",
       "      <td>Ph.D.</td>\n",
       "      <td>EECS</td>\n",
       "      <td>UC Berkeley</td>\n",
       "      <td>2</td>\n",
       "      <td>Michael Armbrust</td>\n",
       "      <td>1</td>\n",
       "      <td>[250, 100]</td>\n",
       "    </tr>\n",
       "  </tbody>\n",
       "</table>\n",
       "</div>"
      ],
      "text/plain": [
       "   id   degree             department       school  id              name  \\\n",
       "0   0  Masters  School of Information  UC Berkeley   0     Bill Chambers   \n",
       "1   1    Ph.D.                   EECS  UC Berkeley   1     Matei Zaharia   \n",
       "2   1    Ph.D.                   EECS  UC Berkeley   2  Michael Armbrust   \n",
       "\n",
       "   graduate_program     spark_status  \n",
       "0                 0            [100]  \n",
       "1                 1  [500, 250, 100]  \n",
       "2                 1       [250, 100]  "
      ]
     },
     "execution_count": 19,
     "metadata": {},
     "output_type": "execute_result"
    }
   ],
   "source": [
    "joinType = \"cross\"\n",
    "graduateProgram.join(person, joinExpression, joinType).toPandas()"
   ]
  },
  {
   "cell_type": "code",
   "execution_count": 20,
   "id": "624c81eb-fc13-445e-916e-d5eb81f6255b",
   "metadata": {
    "tags": []
   },
   "outputs": [
    {
     "data": {
      "text/html": [
       "<div>\n",
       "<style scoped>\n",
       "    .dataframe tbody tr th:only-of-type {\n",
       "        vertical-align: middle;\n",
       "    }\n",
       "\n",
       "    .dataframe tbody tr th {\n",
       "        vertical-align: top;\n",
       "    }\n",
       "\n",
       "    .dataframe thead th {\n",
       "        text-align: right;\n",
       "    }\n",
       "</style>\n",
       "<table border=\"1\" class=\"dataframe\">\n",
       "  <thead>\n",
       "    <tr style=\"text-align: right;\">\n",
       "      <th></th>\n",
       "      <th>id</th>\n",
       "      <th>name</th>\n",
       "      <th>graduate_program</th>\n",
       "      <th>spark_status</th>\n",
       "      <th>id</th>\n",
       "      <th>degree</th>\n",
       "      <th>department</th>\n",
       "      <th>school</th>\n",
       "    </tr>\n",
       "  </thead>\n",
       "  <tbody>\n",
       "    <tr>\n",
       "      <th>0</th>\n",
       "      <td>0</td>\n",
       "      <td>Bill Chambers</td>\n",
       "      <td>0</td>\n",
       "      <td>[100]</td>\n",
       "      <td>0</td>\n",
       "      <td>Masters</td>\n",
       "      <td>School of Information</td>\n",
       "      <td>UC Berkeley</td>\n",
       "    </tr>\n",
       "    <tr>\n",
       "      <th>1</th>\n",
       "      <td>0</td>\n",
       "      <td>Bill Chambers</td>\n",
       "      <td>0</td>\n",
       "      <td>[100]</td>\n",
       "      <td>2</td>\n",
       "      <td>Masters</td>\n",
       "      <td>EECS</td>\n",
       "      <td>UC Berkeley</td>\n",
       "    </tr>\n",
       "    <tr>\n",
       "      <th>2</th>\n",
       "      <td>0</td>\n",
       "      <td>Bill Chambers</td>\n",
       "      <td>0</td>\n",
       "      <td>[100]</td>\n",
       "      <td>1</td>\n",
       "      <td>Ph.D.</td>\n",
       "      <td>EECS</td>\n",
       "      <td>UC Berkeley</td>\n",
       "    </tr>\n",
       "    <tr>\n",
       "      <th>3</th>\n",
       "      <td>1</td>\n",
       "      <td>Matei Zaharia</td>\n",
       "      <td>1</td>\n",
       "      <td>[500, 250, 100]</td>\n",
       "      <td>0</td>\n",
       "      <td>Masters</td>\n",
       "      <td>School of Information</td>\n",
       "      <td>UC Berkeley</td>\n",
       "    </tr>\n",
       "    <tr>\n",
       "      <th>4</th>\n",
       "      <td>1</td>\n",
       "      <td>Matei Zaharia</td>\n",
       "      <td>1</td>\n",
       "      <td>[500, 250, 100]</td>\n",
       "      <td>2</td>\n",
       "      <td>Masters</td>\n",
       "      <td>EECS</td>\n",
       "      <td>UC Berkeley</td>\n",
       "    </tr>\n",
       "    <tr>\n",
       "      <th>5</th>\n",
       "      <td>1</td>\n",
       "      <td>Matei Zaharia</td>\n",
       "      <td>1</td>\n",
       "      <td>[500, 250, 100]</td>\n",
       "      <td>1</td>\n",
       "      <td>Ph.D.</td>\n",
       "      <td>EECS</td>\n",
       "      <td>UC Berkeley</td>\n",
       "    </tr>\n",
       "    <tr>\n",
       "      <th>6</th>\n",
       "      <td>2</td>\n",
       "      <td>Michael Armbrust</td>\n",
       "      <td>1</td>\n",
       "      <td>[250, 100]</td>\n",
       "      <td>0</td>\n",
       "      <td>Masters</td>\n",
       "      <td>School of Information</td>\n",
       "      <td>UC Berkeley</td>\n",
       "    </tr>\n",
       "    <tr>\n",
       "      <th>7</th>\n",
       "      <td>2</td>\n",
       "      <td>Michael Armbrust</td>\n",
       "      <td>1</td>\n",
       "      <td>[250, 100]</td>\n",
       "      <td>2</td>\n",
       "      <td>Masters</td>\n",
       "      <td>EECS</td>\n",
       "      <td>UC Berkeley</td>\n",
       "    </tr>\n",
       "    <tr>\n",
       "      <th>8</th>\n",
       "      <td>2</td>\n",
       "      <td>Michael Armbrust</td>\n",
       "      <td>1</td>\n",
       "      <td>[250, 100]</td>\n",
       "      <td>1</td>\n",
       "      <td>Ph.D.</td>\n",
       "      <td>EECS</td>\n",
       "      <td>UC Berkeley</td>\n",
       "    </tr>\n",
       "  </tbody>\n",
       "</table>\n",
       "</div>"
      ],
      "text/plain": [
       "   id              name  graduate_program     spark_status  id   degree  \\\n",
       "0   0     Bill Chambers                 0            [100]   0  Masters   \n",
       "1   0     Bill Chambers                 0            [100]   2  Masters   \n",
       "2   0     Bill Chambers                 0            [100]   1    Ph.D.   \n",
       "3   1     Matei Zaharia                 1  [500, 250, 100]   0  Masters   \n",
       "4   1     Matei Zaharia                 1  [500, 250, 100]   2  Masters   \n",
       "5   1     Matei Zaharia                 1  [500, 250, 100]   1    Ph.D.   \n",
       "6   2  Michael Armbrust                 1       [250, 100]   0  Masters   \n",
       "7   2  Michael Armbrust                 1       [250, 100]   2  Masters   \n",
       "8   2  Michael Armbrust                 1       [250, 100]   1    Ph.D.   \n",
       "\n",
       "              department       school  \n",
       "0  School of Information  UC Berkeley  \n",
       "1                   EECS  UC Berkeley  \n",
       "2                   EECS  UC Berkeley  \n",
       "3  School of Information  UC Berkeley  \n",
       "4                   EECS  UC Berkeley  \n",
       "5                   EECS  UC Berkeley  \n",
       "6  School of Information  UC Berkeley  \n",
       "7                   EECS  UC Berkeley  \n",
       "8                   EECS  UC Berkeley  "
      ]
     },
     "execution_count": 20,
     "metadata": {},
     "output_type": "execute_result"
    }
   ],
   "source": [
    "person.crossJoin(graduateProgram).toPandas()"
   ]
  },
  {
   "cell_type": "markdown",
   "id": "e53085bf-3bb3-4b06-b89e-20772f8ad8da",
   "metadata": {
    "tags": []
   },
   "source": [
    "## 2. Challenges When Using Joins"
   ]
  },
  {
   "cell_type": "code",
   "execution_count": 21,
   "id": "9b326f8d-cfe1-4f93-a105-967fa921a089",
   "metadata": {},
   "outputs": [
    {
     "data": {
      "text/html": [
       "<div>\n",
       "<style scoped>\n",
       "    .dataframe tbody tr th:only-of-type {\n",
       "        vertical-align: middle;\n",
       "    }\n",
       "\n",
       "    .dataframe tbody tr th {\n",
       "        vertical-align: top;\n",
       "    }\n",
       "\n",
       "    .dataframe thead th {\n",
       "        text-align: right;\n",
       "    }\n",
       "</style>\n",
       "<table border=\"1\" class=\"dataframe\">\n",
       "  <thead>\n",
       "    <tr style=\"text-align: right;\">\n",
       "      <th></th>\n",
       "      <th>personId</th>\n",
       "      <th>name</th>\n",
       "      <th>graduate_program</th>\n",
       "      <th>spark_status</th>\n",
       "      <th>id</th>\n",
       "      <th>status</th>\n",
       "    </tr>\n",
       "  </thead>\n",
       "  <tbody>\n",
       "    <tr>\n",
       "      <th>0</th>\n",
       "      <td>0</td>\n",
       "      <td>Bill Chambers</td>\n",
       "      <td>0</td>\n",
       "      <td>[100]</td>\n",
       "      <td>100</td>\n",
       "      <td>Contributor</td>\n",
       "    </tr>\n",
       "    <tr>\n",
       "      <th>1</th>\n",
       "      <td>1</td>\n",
       "      <td>Matei Zaharia</td>\n",
       "      <td>1</td>\n",
       "      <td>[500, 250, 100]</td>\n",
       "      <td>500</td>\n",
       "      <td>Vice President</td>\n",
       "    </tr>\n",
       "    <tr>\n",
       "      <th>2</th>\n",
       "      <td>1</td>\n",
       "      <td>Matei Zaharia</td>\n",
       "      <td>1</td>\n",
       "      <td>[500, 250, 100]</td>\n",
       "      <td>250</td>\n",
       "      <td>PMC Member</td>\n",
       "    </tr>\n",
       "    <tr>\n",
       "      <th>3</th>\n",
       "      <td>1</td>\n",
       "      <td>Matei Zaharia</td>\n",
       "      <td>1</td>\n",
       "      <td>[500, 250, 100]</td>\n",
       "      <td>100</td>\n",
       "      <td>Contributor</td>\n",
       "    </tr>\n",
       "    <tr>\n",
       "      <th>4</th>\n",
       "      <td>2</td>\n",
       "      <td>Michael Armbrust</td>\n",
       "      <td>1</td>\n",
       "      <td>[250, 100]</td>\n",
       "      <td>250</td>\n",
       "      <td>PMC Member</td>\n",
       "    </tr>\n",
       "    <tr>\n",
       "      <th>5</th>\n",
       "      <td>2</td>\n",
       "      <td>Michael Armbrust</td>\n",
       "      <td>1</td>\n",
       "      <td>[250, 100]</td>\n",
       "      <td>100</td>\n",
       "      <td>Contributor</td>\n",
       "    </tr>\n",
       "  </tbody>\n",
       "</table>\n",
       "</div>"
      ],
      "text/plain": [
       "   personId              name  graduate_program     spark_status   id  \\\n",
       "0         0     Bill Chambers                 0            [100]  100   \n",
       "1         1     Matei Zaharia                 1  [500, 250, 100]  500   \n",
       "2         1     Matei Zaharia                 1  [500, 250, 100]  250   \n",
       "3         1     Matei Zaharia                 1  [500, 250, 100]  100   \n",
       "4         2  Michael Armbrust                 1       [250, 100]  250   \n",
       "5         2  Michael Armbrust                 1       [250, 100]  100   \n",
       "\n",
       "           status  \n",
       "0     Contributor  \n",
       "1  Vice President  \n",
       "2      PMC Member  \n",
       "3     Contributor  \n",
       "4      PMC Member  \n",
       "5     Contributor  "
      ]
     },
     "execution_count": 21,
     "metadata": {},
     "output_type": "execute_result"
    }
   ],
   "source": [
    "from pyspark.sql.functions import expr\n",
    "person.withColumnRenamed(\"id\", \"personId\")\\\n",
    ".join(sparkStatus, expr(\"array_contains(spark_status, id)\")).toPandas()\n",
    "## person의 spark_status가 sparkStatus의 id를 포함하고 있는지"
   ]
  },
  {
   "cell_type": "code",
   "execution_count": 22,
   "id": "99b9cc50-af95-400d-865e-53aa98e3ea7e",
   "metadata": {
    "tags": []
   },
   "outputs": [
    {
     "data": {
      "text/html": [
       "<div>\n",
       "<style scoped>\n",
       "    .dataframe tbody tr th:only-of-type {\n",
       "        vertical-align: middle;\n",
       "    }\n",
       "\n",
       "    .dataframe tbody tr th {\n",
       "        vertical-align: top;\n",
       "    }\n",
       "\n",
       "    .dataframe thead th {\n",
       "        text-align: right;\n",
       "    }\n",
       "</style>\n",
       "<table border=\"1\" class=\"dataframe\">\n",
       "  <thead>\n",
       "    <tr style=\"text-align: right;\">\n",
       "      <th></th>\n",
       "      <th>id</th>\n",
       "      <th>status</th>\n",
       "    </tr>\n",
       "  </thead>\n",
       "  <tbody>\n",
       "    <tr>\n",
       "      <th>0</th>\n",
       "      <td>500</td>\n",
       "      <td>Vice President</td>\n",
       "    </tr>\n",
       "    <tr>\n",
       "      <th>1</th>\n",
       "      <td>250</td>\n",
       "      <td>PMC Member</td>\n",
       "    </tr>\n",
       "    <tr>\n",
       "      <th>2</th>\n",
       "      <td>100</td>\n",
       "      <td>Contributor</td>\n",
       "    </tr>\n",
       "  </tbody>\n",
       "</table>\n",
       "</div>"
      ],
      "text/plain": [
       "    id          status\n",
       "0  500  Vice President\n",
       "1  250      PMC Member\n",
       "2  100     Contributor"
      ]
     },
     "execution_count": 22,
     "metadata": {},
     "output_type": "execute_result"
    }
   ],
   "source": [
    "sparkStatus.toPandas()"
   ]
  },
  {
   "cell_type": "code",
   "execution_count": 23,
   "id": "018334d1-307b-485f-b661-7878c99bddd7",
   "metadata": {
    "tags": []
   },
   "outputs": [
    {
     "data": {
      "text/html": [
       "<div>\n",
       "<style scoped>\n",
       "    .dataframe tbody tr th:only-of-type {\n",
       "        vertical-align: middle;\n",
       "    }\n",
       "\n",
       "    .dataframe tbody tr th {\n",
       "        vertical-align: top;\n",
       "    }\n",
       "\n",
       "    .dataframe thead th {\n",
       "        text-align: right;\n",
       "    }\n",
       "</style>\n",
       "<table border=\"1\" class=\"dataframe\">\n",
       "  <thead>\n",
       "    <tr style=\"text-align: right;\">\n",
       "      <th></th>\n",
       "      <th>id</th>\n",
       "      <th>name</th>\n",
       "      <th>graduate_program</th>\n",
       "      <th>spark_status</th>\n",
       "    </tr>\n",
       "  </thead>\n",
       "  <tbody>\n",
       "    <tr>\n",
       "      <th>0</th>\n",
       "      <td>0</td>\n",
       "      <td>Bill Chambers</td>\n",
       "      <td>0</td>\n",
       "      <td>[100]</td>\n",
       "    </tr>\n",
       "    <tr>\n",
       "      <th>1</th>\n",
       "      <td>1</td>\n",
       "      <td>Matei Zaharia</td>\n",
       "      <td>1</td>\n",
       "      <td>[500, 250, 100]</td>\n",
       "    </tr>\n",
       "    <tr>\n",
       "      <th>2</th>\n",
       "      <td>2</td>\n",
       "      <td>Michael Armbrust</td>\n",
       "      <td>1</td>\n",
       "      <td>[250, 100]</td>\n",
       "    </tr>\n",
       "  </tbody>\n",
       "</table>\n",
       "</div>"
      ],
      "text/plain": [
       "   id              name  graduate_program     spark_status\n",
       "0   0     Bill Chambers                 0            [100]\n",
       "1   1     Matei Zaharia                 1  [500, 250, 100]\n",
       "2   2  Michael Armbrust                 1       [250, 100]"
      ]
     },
     "execution_count": 23,
     "metadata": {},
     "output_type": "execute_result"
    }
   ],
   "source": [
    "person.toPandas()"
   ]
  },
  {
   "cell_type": "markdown",
   "id": "ee348297-dd59-4ede-83b3-ea1cf14aeffe",
   "metadata": {},
   "source": [
    "### Handling Duplicate Column Names"
   ]
  },
  {
   "cell_type": "code",
   "execution_count": 24,
   "id": "72ee7dac-a046-464a-b2ce-2157409acea0",
   "metadata": {
    "tags": []
   },
   "outputs": [
    {
     "data": {
      "text/html": [
       "<div>\n",
       "<style scoped>\n",
       "    .dataframe tbody tr th:only-of-type {\n",
       "        vertical-align: middle;\n",
       "    }\n",
       "\n",
       "    .dataframe tbody tr th {\n",
       "        vertical-align: top;\n",
       "    }\n",
       "\n",
       "    .dataframe thead th {\n",
       "        text-align: right;\n",
       "    }\n",
       "</style>\n",
       "<table border=\"1\" class=\"dataframe\">\n",
       "  <thead>\n",
       "    <tr style=\"text-align: right;\">\n",
       "      <th></th>\n",
       "      <th>graduate_program</th>\n",
       "      <th>degree</th>\n",
       "      <th>department</th>\n",
       "      <th>school</th>\n",
       "    </tr>\n",
       "  </thead>\n",
       "  <tbody>\n",
       "    <tr>\n",
       "      <th>0</th>\n",
       "      <td>0</td>\n",
       "      <td>Masters</td>\n",
       "      <td>School of Information</td>\n",
       "      <td>UC Berkeley</td>\n",
       "    </tr>\n",
       "    <tr>\n",
       "      <th>1</th>\n",
       "      <td>2</td>\n",
       "      <td>Masters</td>\n",
       "      <td>EECS</td>\n",
       "      <td>UC Berkeley</td>\n",
       "    </tr>\n",
       "    <tr>\n",
       "      <th>2</th>\n",
       "      <td>1</td>\n",
       "      <td>Ph.D.</td>\n",
       "      <td>EECS</td>\n",
       "      <td>UC Berkeley</td>\n",
       "    </tr>\n",
       "  </tbody>\n",
       "</table>\n",
       "</div>"
      ],
      "text/plain": [
       "   graduate_program   degree             department       school\n",
       "0                 0  Masters  School of Information  UC Berkeley\n",
       "1                 2  Masters                   EECS  UC Berkeley\n",
       "2                 1    Ph.D.                   EECS  UC Berkeley"
      ]
     },
     "execution_count": 24,
     "metadata": {},
     "output_type": "execute_result"
    }
   ],
   "source": [
    "gradProgramDupe = graduateProgram.withColumnRenamed(\"id\", \"graduate_program\")\n",
    "gradProgramDupe.toPandas()"
   ]
  },
  {
   "cell_type": "code",
   "execution_count": 25,
   "id": "d2a580ac-a4b2-4cc5-b238-7b278f630983",
   "metadata": {
    "tags": []
   },
   "outputs": [
    {
     "data": {
      "text/html": [
       "<div>\n",
       "<style scoped>\n",
       "    .dataframe tbody tr th:only-of-type {\n",
       "        vertical-align: middle;\n",
       "    }\n",
       "\n",
       "    .dataframe tbody tr th {\n",
       "        vertical-align: top;\n",
       "    }\n",
       "\n",
       "    .dataframe thead th {\n",
       "        text-align: right;\n",
       "    }\n",
       "</style>\n",
       "<table border=\"1\" class=\"dataframe\">\n",
       "  <thead>\n",
       "    <tr style=\"text-align: right;\">\n",
       "      <th></th>\n",
       "      <th>id</th>\n",
       "      <th>name</th>\n",
       "      <th>graduate_program</th>\n",
       "      <th>spark_status</th>\n",
       "    </tr>\n",
       "  </thead>\n",
       "  <tbody>\n",
       "    <tr>\n",
       "      <th>0</th>\n",
       "      <td>0</td>\n",
       "      <td>Bill Chambers</td>\n",
       "      <td>0</td>\n",
       "      <td>[100]</td>\n",
       "    </tr>\n",
       "    <tr>\n",
       "      <th>1</th>\n",
       "      <td>1</td>\n",
       "      <td>Matei Zaharia</td>\n",
       "      <td>1</td>\n",
       "      <td>[500, 250, 100]</td>\n",
       "    </tr>\n",
       "    <tr>\n",
       "      <th>2</th>\n",
       "      <td>2</td>\n",
       "      <td>Michael Armbrust</td>\n",
       "      <td>1</td>\n",
       "      <td>[250, 100]</td>\n",
       "    </tr>\n",
       "  </tbody>\n",
       "</table>\n",
       "</div>"
      ],
      "text/plain": [
       "   id              name  graduate_program     spark_status\n",
       "0   0     Bill Chambers                 0            [100]\n",
       "1   1     Matei Zaharia                 1  [500, 250, 100]\n",
       "2   2  Michael Armbrust                 1       [250, 100]"
      ]
     },
     "execution_count": 25,
     "metadata": {},
     "output_type": "execute_result"
    }
   ],
   "source": [
    "person.toPandas()"
   ]
  },
  {
   "cell_type": "code",
   "execution_count": 26,
   "id": "fe51a0af-6a82-4ea0-bde1-2c1687a565c4",
   "metadata": {
    "tags": []
   },
   "outputs": [],
   "source": [
    "joinExpr = gradProgramDupe[\"graduate_program\"] == person[\"graduate_program\"]"
   ]
  },
  {
   "cell_type": "code",
   "execution_count": 27,
   "id": "37f63737-eb1f-4b33-a8f0-7104697bccac",
   "metadata": {
    "tags": []
   },
   "outputs": [
    {
     "data": {
      "text/html": [
       "<div>\n",
       "<style scoped>\n",
       "    .dataframe tbody tr th:only-of-type {\n",
       "        vertical-align: middle;\n",
       "    }\n",
       "\n",
       "    .dataframe tbody tr th {\n",
       "        vertical-align: top;\n",
       "    }\n",
       "\n",
       "    .dataframe thead th {\n",
       "        text-align: right;\n",
       "    }\n",
       "</style>\n",
       "<table border=\"1\" class=\"dataframe\">\n",
       "  <thead>\n",
       "    <tr style=\"text-align: right;\">\n",
       "      <th></th>\n",
       "      <th>id</th>\n",
       "      <th>name</th>\n",
       "      <th>graduate_program</th>\n",
       "      <th>spark_status</th>\n",
       "      <th>graduate_program</th>\n",
       "      <th>degree</th>\n",
       "      <th>department</th>\n",
       "      <th>school</th>\n",
       "    </tr>\n",
       "  </thead>\n",
       "  <tbody>\n",
       "    <tr>\n",
       "      <th>0</th>\n",
       "      <td>0</td>\n",
       "      <td>Bill Chambers</td>\n",
       "      <td>0</td>\n",
       "      <td>[100]</td>\n",
       "      <td>0</td>\n",
       "      <td>Masters</td>\n",
       "      <td>School of Information</td>\n",
       "      <td>UC Berkeley</td>\n",
       "    </tr>\n",
       "    <tr>\n",
       "      <th>1</th>\n",
       "      <td>1</td>\n",
       "      <td>Matei Zaharia</td>\n",
       "      <td>1</td>\n",
       "      <td>[500, 250, 100]</td>\n",
       "      <td>1</td>\n",
       "      <td>Ph.D.</td>\n",
       "      <td>EECS</td>\n",
       "      <td>UC Berkeley</td>\n",
       "    </tr>\n",
       "    <tr>\n",
       "      <th>2</th>\n",
       "      <td>2</td>\n",
       "      <td>Michael Armbrust</td>\n",
       "      <td>1</td>\n",
       "      <td>[250, 100]</td>\n",
       "      <td>1</td>\n",
       "      <td>Ph.D.</td>\n",
       "      <td>EECS</td>\n",
       "      <td>UC Berkeley</td>\n",
       "    </tr>\n",
       "  </tbody>\n",
       "</table>\n",
       "</div>"
      ],
      "text/plain": [
       "   id              name  graduate_program     spark_status  graduate_program  \\\n",
       "0   0     Bill Chambers                 0            [100]                 0   \n",
       "1   1     Matei Zaharia                 1  [500, 250, 100]                 1   \n",
       "2   2  Michael Armbrust                 1       [250, 100]                 1   \n",
       "\n",
       "    degree             department       school  \n",
       "0  Masters  School of Information  UC Berkeley  \n",
       "1    Ph.D.                   EECS  UC Berkeley  \n",
       "2    Ph.D.                   EECS  UC Berkeley  "
      ]
     },
     "execution_count": 27,
     "metadata": {},
     "output_type": "execute_result"
    }
   ],
   "source": [
    "person.join(gradProgramDupe, joinExpr).toPandas()"
   ]
  },
  {
   "cell_type": "code",
   "execution_count": 30,
   "id": "a5b9d8ca-a132-48df-8c42-d155b6d1337b",
   "metadata": {
    "tags": []
   },
   "outputs": [
    {
     "ename": "AnalysisException",
     "evalue": "Reference 'graduate_program' is ambiguous, could be: graduate_program, graduate_program.",
     "output_type": "error",
     "traceback": [
      "\u001b[0;31m---------------------------------------------------------------------------\u001b[0m",
      "\u001b[0;31mAnalysisException\u001b[0m                         Traceback (most recent call last)",
      "Cell \u001b[0;32mIn[30], line 1\u001b[0m\n\u001b[0;32m----> 1\u001b[0m \u001b[43mperson\u001b[49m\u001b[38;5;241;43m.\u001b[39;49m\u001b[43mjoin\u001b[49m\u001b[43m(\u001b[49m\u001b[43mgradProgramDupe\u001b[49m\u001b[43m,\u001b[49m\u001b[43m \u001b[49m\u001b[43mjoinExpr\u001b[49m\u001b[43m)\u001b[49m\u001b[38;5;241;43m.\u001b[39;49m\u001b[43mselect\u001b[49m\u001b[43m(\u001b[49m\u001b[38;5;124;43m\"\u001b[39;49m\u001b[38;5;124;43mgraduate_program\u001b[39;49m\u001b[38;5;124;43m\"\u001b[39;49m\u001b[43m)\u001b[49m\u001b[38;5;241m.\u001b[39mshow()\n",
      "File \u001b[0;32m/usr/local/spark/python/pyspark/sql/dataframe.py:2023\u001b[0m, in \u001b[0;36mDataFrame.select\u001b[0;34m(self, *cols)\u001b[0m\n\u001b[1;32m   2002\u001b[0m \u001b[38;5;28;01mdef\u001b[39;00m \u001b[38;5;21mselect\u001b[39m(\u001b[38;5;28mself\u001b[39m, \u001b[38;5;241m*\u001b[39mcols: \u001b[38;5;124m\"\u001b[39m\u001b[38;5;124mColumnOrName\u001b[39m\u001b[38;5;124m\"\u001b[39m) \u001b[38;5;241m-\u001b[39m\u001b[38;5;241m>\u001b[39m \u001b[38;5;124m\"\u001b[39m\u001b[38;5;124mDataFrame\u001b[39m\u001b[38;5;124m\"\u001b[39m:  \u001b[38;5;66;03m# type: ignore[misc]\u001b[39;00m\n\u001b[1;32m   2003\u001b[0m \u001b[38;5;250m    \u001b[39m\u001b[38;5;124;03m\"\"\"Projects a set of expressions and returns a new :class:`DataFrame`.\u001b[39;00m\n\u001b[1;32m   2004\u001b[0m \n\u001b[1;32m   2005\u001b[0m \u001b[38;5;124;03m    .. versionadded:: 1.3.0\u001b[39;00m\n\u001b[0;32m   (...)\u001b[0m\n\u001b[1;32m   2021\u001b[0m \u001b[38;5;124;03m    [Row(name='Alice', age=12), Row(name='Bob', age=15)]\u001b[39;00m\n\u001b[1;32m   2022\u001b[0m \u001b[38;5;124;03m    \"\"\"\u001b[39;00m\n\u001b[0;32m-> 2023\u001b[0m     jdf \u001b[38;5;241m=\u001b[39m \u001b[38;5;28;43mself\u001b[39;49m\u001b[38;5;241;43m.\u001b[39;49m\u001b[43m_jdf\u001b[49m\u001b[38;5;241;43m.\u001b[39;49m\u001b[43mselect\u001b[49m\u001b[43m(\u001b[49m\u001b[38;5;28;43mself\u001b[39;49m\u001b[38;5;241;43m.\u001b[39;49m\u001b[43m_jcols\u001b[49m\u001b[43m(\u001b[49m\u001b[38;5;241;43m*\u001b[39;49m\u001b[43mcols\u001b[49m\u001b[43m)\u001b[49m\u001b[43m)\u001b[49m\n\u001b[1;32m   2024\u001b[0m     \u001b[38;5;28;01mreturn\u001b[39;00m DataFrame(jdf, \u001b[38;5;28mself\u001b[39m\u001b[38;5;241m.\u001b[39msparkSession)\n",
      "File \u001b[0;32m/usr/local/spark/python/lib/py4j-0.10.9.5-src.zip/py4j/java_gateway.py:1321\u001b[0m, in \u001b[0;36mJavaMember.__call__\u001b[0;34m(self, *args)\u001b[0m\n\u001b[1;32m   1315\u001b[0m command \u001b[38;5;241m=\u001b[39m proto\u001b[38;5;241m.\u001b[39mCALL_COMMAND_NAME \u001b[38;5;241m+\u001b[39m\\\n\u001b[1;32m   1316\u001b[0m     \u001b[38;5;28mself\u001b[39m\u001b[38;5;241m.\u001b[39mcommand_header \u001b[38;5;241m+\u001b[39m\\\n\u001b[1;32m   1317\u001b[0m     args_command \u001b[38;5;241m+\u001b[39m\\\n\u001b[1;32m   1318\u001b[0m     proto\u001b[38;5;241m.\u001b[39mEND_COMMAND_PART\n\u001b[1;32m   1320\u001b[0m answer \u001b[38;5;241m=\u001b[39m \u001b[38;5;28mself\u001b[39m\u001b[38;5;241m.\u001b[39mgateway_client\u001b[38;5;241m.\u001b[39msend_command(command)\n\u001b[0;32m-> 1321\u001b[0m return_value \u001b[38;5;241m=\u001b[39m \u001b[43mget_return_value\u001b[49m\u001b[43m(\u001b[49m\n\u001b[1;32m   1322\u001b[0m \u001b[43m    \u001b[49m\u001b[43manswer\u001b[49m\u001b[43m,\u001b[49m\u001b[43m \u001b[49m\u001b[38;5;28;43mself\u001b[39;49m\u001b[38;5;241;43m.\u001b[39;49m\u001b[43mgateway_client\u001b[49m\u001b[43m,\u001b[49m\u001b[43m \u001b[49m\u001b[38;5;28;43mself\u001b[39;49m\u001b[38;5;241;43m.\u001b[39;49m\u001b[43mtarget_id\u001b[49m\u001b[43m,\u001b[49m\u001b[43m \u001b[49m\u001b[38;5;28;43mself\u001b[39;49m\u001b[38;5;241;43m.\u001b[39;49m\u001b[43mname\u001b[49m\u001b[43m)\u001b[49m\n\u001b[1;32m   1324\u001b[0m \u001b[38;5;28;01mfor\u001b[39;00m temp_arg \u001b[38;5;129;01min\u001b[39;00m temp_args:\n\u001b[1;32m   1325\u001b[0m     temp_arg\u001b[38;5;241m.\u001b[39m_detach()\n",
      "File \u001b[0;32m/usr/local/spark/python/pyspark/sql/utils.py:196\u001b[0m, in \u001b[0;36mcapture_sql_exception.<locals>.deco\u001b[0;34m(*a, **kw)\u001b[0m\n\u001b[1;32m    192\u001b[0m converted \u001b[38;5;241m=\u001b[39m convert_exception(e\u001b[38;5;241m.\u001b[39mjava_exception)\n\u001b[1;32m    193\u001b[0m \u001b[38;5;28;01mif\u001b[39;00m \u001b[38;5;129;01mnot\u001b[39;00m \u001b[38;5;28misinstance\u001b[39m(converted, UnknownException):\n\u001b[1;32m    194\u001b[0m     \u001b[38;5;66;03m# Hide where the exception came from that shows a non-Pythonic\u001b[39;00m\n\u001b[1;32m    195\u001b[0m     \u001b[38;5;66;03m# JVM exception message.\u001b[39;00m\n\u001b[0;32m--> 196\u001b[0m     \u001b[38;5;28;01mraise\u001b[39;00m converted \u001b[38;5;28;01mfrom\u001b[39;00m \u001b[38;5;28mNone\u001b[39m\n\u001b[1;32m    197\u001b[0m \u001b[38;5;28;01melse\u001b[39;00m:\n\u001b[1;32m    198\u001b[0m     \u001b[38;5;28;01mraise\u001b[39;00m\n",
      "\u001b[0;31mAnalysisException\u001b[0m: Reference 'graduate_program' is ambiguous, could be: graduate_program, graduate_program."
     ]
    }
   ],
   "source": [
    "person.join(gradProgramDupe, joinExpr).select(\"graduate_program\").show()"
   ]
  },
  {
   "cell_type": "code",
   "execution_count": 28,
   "id": "6515065f-b844-4adf-8247-cfbad6c0b717",
   "metadata": {},
   "outputs": [
    {
     "name": "stdout",
     "output_type": "stream",
     "text": [
      "+----------------+\n",
      "|graduate_program|\n",
      "+----------------+\n",
      "|               0|\n",
      "|               1|\n",
      "|               1|\n",
      "+----------------+\n",
      "\n"
     ]
    }
   ],
   "source": [
    "## Solution 1: Different join expression\n",
    "person.join(gradProgramDupe, \"graduate_program\").select(\"graduate_program\").show()"
   ]
  },
  {
   "cell_type": "code",
   "execution_count": 31,
   "id": "2e400b4e-f699-4218-8854-f4584aa8348d",
   "metadata": {
    "tags": []
   },
   "outputs": [
    {
     "data": {
      "text/html": [
       "<div>\n",
       "<style scoped>\n",
       "    .dataframe tbody tr th:only-of-type {\n",
       "        vertical-align: middle;\n",
       "    }\n",
       "\n",
       "    .dataframe tbody tr th {\n",
       "        vertical-align: top;\n",
       "    }\n",
       "\n",
       "    .dataframe thead th {\n",
       "        text-align: right;\n",
       "    }\n",
       "</style>\n",
       "<table border=\"1\" class=\"dataframe\">\n",
       "  <thead>\n",
       "    <tr style=\"text-align: right;\">\n",
       "      <th></th>\n",
       "      <th>graduate_program</th>\n",
       "    </tr>\n",
       "  </thead>\n",
       "  <tbody>\n",
       "    <tr>\n",
       "      <th>0</th>\n",
       "      <td>0</td>\n",
       "    </tr>\n",
       "    <tr>\n",
       "      <th>1</th>\n",
       "      <td>1</td>\n",
       "    </tr>\n",
       "    <tr>\n",
       "      <th>2</th>\n",
       "      <td>1</td>\n",
       "    </tr>\n",
       "  </tbody>\n",
       "</table>\n",
       "</div>"
      ],
      "text/plain": [
       "   graduate_program\n",
       "0                 0\n",
       "1                 1\n",
       "2                 1"
      ]
     },
     "execution_count": 31,
     "metadata": {},
     "output_type": "execute_result"
    }
   ],
   "source": [
    "## Solution 2: Dropping the column after the join\n",
    "## 버전 문제인가 ... 안됨\n",
    "person.join(gradProgramDupe, joinExpr).drop(person[\"graduate_program\"]).select(\"graduate_program\").toPandas()"
   ]
  },
  {
   "cell_type": "code",
   "execution_count": 37,
   "id": "967feccf-c733-4f0f-b5ae-9e397e244a83",
   "metadata": {
    "tags": []
   },
   "outputs": [
    {
     "data": {
      "text/html": [
       "<div>\n",
       "<style scoped>\n",
       "    .dataframe tbody tr th:only-of-type {\n",
       "        vertical-align: middle;\n",
       "    }\n",
       "\n",
       "    .dataframe tbody tr th {\n",
       "        vertical-align: top;\n",
       "    }\n",
       "\n",
       "    .dataframe thead th {\n",
       "        text-align: right;\n",
       "    }\n",
       "</style>\n",
       "<table border=\"1\" class=\"dataframe\">\n",
       "  <thead>\n",
       "    <tr style=\"text-align: right;\">\n",
       "      <th></th>\n",
       "      <th>id</th>\n",
       "      <th>name</th>\n",
       "      <th>graduate_program</th>\n",
       "      <th>spark_status</th>\n",
       "      <th>grad_id</th>\n",
       "      <th>degree</th>\n",
       "      <th>department</th>\n",
       "      <th>school</th>\n",
       "    </tr>\n",
       "  </thead>\n",
       "  <tbody>\n",
       "    <tr>\n",
       "      <th>0</th>\n",
       "      <td>0</td>\n",
       "      <td>Bill Chambers</td>\n",
       "      <td>0</td>\n",
       "      <td>[100]</td>\n",
       "      <td>0</td>\n",
       "      <td>Masters</td>\n",
       "      <td>School of Information</td>\n",
       "      <td>UC Berkeley</td>\n",
       "    </tr>\n",
       "    <tr>\n",
       "      <th>1</th>\n",
       "      <td>1</td>\n",
       "      <td>Matei Zaharia</td>\n",
       "      <td>1</td>\n",
       "      <td>[500, 250, 100]</td>\n",
       "      <td>1</td>\n",
       "      <td>Ph.D.</td>\n",
       "      <td>EECS</td>\n",
       "      <td>UC Berkeley</td>\n",
       "    </tr>\n",
       "    <tr>\n",
       "      <th>2</th>\n",
       "      <td>2</td>\n",
       "      <td>Michael Armbrust</td>\n",
       "      <td>1</td>\n",
       "      <td>[250, 100]</td>\n",
       "      <td>1</td>\n",
       "      <td>Ph.D.</td>\n",
       "      <td>EECS</td>\n",
       "      <td>UC Berkeley</td>\n",
       "    </tr>\n",
       "  </tbody>\n",
       "</table>\n",
       "</div>"
      ],
      "text/plain": [
       "   id              name  graduate_program     spark_status  grad_id   degree  \\\n",
       "0   0     Bill Chambers                 0            [100]        0  Masters   \n",
       "1   1     Matei Zaharia                 1  [500, 250, 100]        1    Ph.D.   \n",
       "2   2  Michael Armbrust                 1       [250, 100]        1    Ph.D.   \n",
       "\n",
       "              department       school  \n",
       "0  School of Information  UC Berkeley  \n",
       "1                   EECS  UC Berkeley  \n",
       "2                   EECS  UC Berkeley  "
      ]
     },
     "execution_count": 37,
     "metadata": {},
     "output_type": "execute_result"
    }
   ],
   "source": [
    "## Solution3: Renaming a column before the join\n",
    "gradProgram3 = graduateProgram.withColumnRenamed(\"id\", \"grad_id\")\n",
    "joinExpr = person[\"graduate_program\"] == gradProgram3[\"grad_id\"]\n",
    "person.join(gradProgram3, joinExpr).toPandas()"
   ]
  },
  {
   "cell_type": "markdown",
   "id": "651cd662-dac2-49b2-b38f-7e63f3a90215",
   "metadata": {},
   "source": [
    "## 3. How Spark Performs Joins"
   ]
  },
  {
   "cell_type": "markdown",
   "id": "b568c9e6-08f0-4042-a0cf-1bcdef7a757f",
   "metadata": {},
   "source": [
    "### Communication Strategies"
   ]
  },
  {
   "cell_type": "code",
   "execution_count": 38,
   "id": "ffce2b62-ee78-48fa-aa39-931928f1b9a1",
   "metadata": {
    "tags": []
   },
   "outputs": [
    {
     "name": "stdout",
     "output_type": "stream",
     "text": [
      "== Physical Plan ==\n",
      "AdaptiveSparkPlan isFinalPlan=false\n",
      "+- SortMergeJoin [graduate_program#10L], [id#24L], Inner\n",
      "   :- Sort [graduate_program#10L ASC NULLS FIRST], false, 0\n",
      "   :  +- Exchange hashpartitioning(graduate_program#10L, 200), ENSURE_REQUIREMENTS, [plan_id=1876]\n",
      "   :     +- Project [_1#0L AS id#8L, _2#1 AS name#9, _3#2L AS graduate_program#10L, _4#3 AS spark_status#11]\n",
      "   :        +- Filter isnotnull(_3#2L)\n",
      "   :           +- Scan ExistingRDD[_1#0L,_2#1,_3#2L,_4#3]\n",
      "   +- Sort [id#24L ASC NULLS FIRST], false, 0\n",
      "      +- Exchange hashpartitioning(id#24L, 200), ENSURE_REQUIREMENTS, [plan_id=1877]\n",
      "         +- Project [_1#16L AS id#24L, _2#17 AS degree#25, _3#18 AS department#26, _4#19 AS school#27]\n",
      "            +- Filter isnotnull(_1#16L)\n",
      "               +- Scan ExistingRDD[_1#16L,_2#17,_3#18,_4#19]\n",
      "\n",
      "\n"
     ]
    }
   ],
   "source": [
    "joinExpr = person[\"graduate_program\"] == graduateProgram[\"id\"]\n",
    "person.join(graduateProgram, joinExpr).explain()\n",
    "## 여기서는 자동으로는 브로드캐스팅 안 됨"
   ]
  },
  {
   "cell_type": "code",
   "execution_count": 41,
   "id": "d44e0016-2cae-45cd-959e-ccb86380ecaa",
   "metadata": {
    "tags": []
   },
   "outputs": [
    {
     "name": "stdout",
     "output_type": "stream",
     "text": [
      "== Physical Plan ==\n",
      "AdaptiveSparkPlan isFinalPlan=false\n",
      "+- BroadcastHashJoin [graduate_program#10L], [id#24L], Inner, BuildRight, false\n",
      "   :- Project [_1#0L AS id#8L, _2#1 AS name#9, _3#2L AS graduate_program#10L, _4#3 AS spark_status#11]\n",
      "   :  +- Filter isnotnull(_3#2L)\n",
      "   :     +- Scan ExistingRDD[_1#0L,_2#1,_3#2L,_4#3]\n",
      "   +- BroadcastExchange HashedRelationBroadcastMode(List(input[0, bigint, true]),false), [plan_id=1909]\n",
      "      +- Project [_1#16L AS id#24L, _2#17 AS degree#25, _3#18 AS department#26, _4#19 AS school#27]\n",
      "         +- Filter isnotnull(_1#16L)\n",
      "            +- Scan ExistingRDD[_1#16L,_2#17,_3#18,_4#19]\n",
      "\n",
      "\n"
     ]
    }
   ],
   "source": [
    "from pyspark.sql.functions import broadcast\n",
    "joinExpr = person[\"graduate_program\"] == graduateProgram[\"id\"]\n",
    "person.join(broadcast(graduateProgram), joinExpr).explain()"
   ]
  },
  {
   "cell_type": "code",
   "execution_count": null,
   "id": "9dcb77a7-25b9-40e3-98fd-f548fdbddb74",
   "metadata": {},
   "outputs": [],
   "source": []
  }
 ],
 "metadata": {
  "kernelspec": {
   "display_name": "Python 3 (ipykernel)",
   "language": "python",
   "name": "python3"
  },
  "language_info": {
   "codemirror_mode": {
    "name": "ipython",
    "version": 3
   },
   "file_extension": ".py",
   "mimetype": "text/x-python",
   "name": "python",
   "nbconvert_exporter": "python",
   "pygments_lexer": "ipython3",
   "version": "3.10.10"
  }
 },
 "nbformat": 4,
 "nbformat_minor": 5
}
