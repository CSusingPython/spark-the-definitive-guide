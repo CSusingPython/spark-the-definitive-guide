{
 "cells": [
  {
   "cell_type": "markdown",
   "id": "virgin-exchange",
   "metadata": {},
   "source": [
    "## 정적 데이터프레임 버전"
   ]
  },
  {
   "cell_type": "code",
   "execution_count": 89,
   "id": "median-mystery",
   "metadata": {},
   "outputs": [],
   "source": [
    "import pyspark\n",
    "import pyspark.sql.functions as F"
   ]
  },
  {
   "cell_type": "markdown",
   "id": "dangerous-honor",
   "metadata": {},
   "source": [
    "# Working with 정적 DataFrame"
   ]
  },
  {
   "cell_type": "code",
   "execution_count": 118,
   "id": "liked-measurement",
   "metadata": {},
   "outputs": [],
   "source": [
    "# 로컬 모드로 이 코드를 실행하려면 로컬 모드에 적합한 셔플 파티션 수를 설정해 주는 것이 좋다.\n",
    "# 기본 200이지만, 로컬 모드에서는 많은 익스큐터가 필요하지 않기 때문에 5로 설정한다.\n",
    "spark.conf.set(\"spark.sql.shuffle.partitions\", \"5\")"
   ]
  },
  {
   "cell_type": "code",
   "execution_count": 119,
   "id": "nervous-drove",
   "metadata": {},
   "outputs": [],
   "source": [
    "staticDataFrame = spark.read.format(\"csv\")\\\n",
    ".option(\"header\", \"true\")\\\n",
    ".option(\"inferSchema\", \"true\")\\\n",
    ".load(\"../../assets/exercises/week03/all/online-retail-dataset.csv\")"
   ]
  },
  {
   "cell_type": "code",
   "execution_count": 120,
   "id": "operating-nursing",
   "metadata": {},
   "outputs": [
    {
     "data": {
      "text/plain": [
       "[Row(InvoiceNo='536365', StockCode='85123A', Description='WHITE HANGING HEART T-LIGHT HOLDER', Quantity=6, InvoiceDate='12/1/2010 8:26', UnitPrice=2.55, CustomerID=17850, Country='United Kingdom'),\n",
       " Row(InvoiceNo='536365', StockCode='71053', Description='WHITE METAL LANTERN', Quantity=6, InvoiceDate='12/1/2010 8:26', UnitPrice=3.39, CustomerID=17850, Country='United Kingdom'),\n",
       " Row(InvoiceNo='536365', StockCode='84406B', Description='CREAM CUPID HEARTS COAT HANGER', Quantity=8, InvoiceDate='12/1/2010 8:26', UnitPrice=2.75, CustomerID=17850, Country='United Kingdom')]"
      ]
     },
     "execution_count": 120,
     "metadata": {},
     "output_type": "execute_result"
    }
   ],
   "source": [
    "staticDataFrame.take(3)"
   ]
  },
  {
   "cell_type": "code",
   "execution_count": 121,
   "id": "fitted-excerpt",
   "metadata": {},
   "outputs": [
    {
     "name": "stdout",
     "output_type": "stream",
     "text": [
      "root\n",
      " |-- InvoiceNo: string (nullable = true)\n",
      " |-- StockCode: string (nullable = true)\n",
      " |-- Description: string (nullable = true)\n",
      " |-- Quantity: integer (nullable = true)\n",
      " |-- InvoiceDate: string (nullable = true)\n",
      " |-- UnitPrice: double (nullable = true)\n",
      " |-- CustomerID: integer (nullable = true)\n",
      " |-- Country: string (nullable = true)\n",
      "\n"
     ]
    }
   ],
   "source": [
    "staticDataFrame.printSchema()"
   ]
  },
  {
   "cell_type": "code",
   "execution_count": 122,
   "id": "advance-cattle",
   "metadata": {},
   "outputs": [],
   "source": [
    "staticDataFrame.createOrReplaceTempView(\"retail_data\")"
   ]
  },
  {
   "cell_type": "code",
   "execution_count": 123,
   "id": "stopped-question",
   "metadata": {},
   "outputs": [],
   "source": [
    "staticSchema = staticDataFrame.schema"
   ]
  },
  {
   "cell_type": "markdown",
   "id": "rocky-analysis",
   "metadata": {},
   "source": [
    "- 시계열 데이터를 그룹화하고 집계할 수 있다.\n",
    "- 특정 고객이 대량으로 구매하는 영업시간을 확인할 수 있다."
   ]
  },
  {
   "cell_type": "code",
   "execution_count": 124,
   "id": "posted-pepper",
   "metadata": {},
   "outputs": [
    {
     "name": "stdout",
     "output_type": "stream",
     "text": [
      "+----------+------------------+\n",
      "|CustomerID|   sum(total_cost)|\n",
      "+----------+------------------+\n",
      "|     17850| 5288.630000000009|\n",
      "|     13047|3079.1000000000004|\n",
      "|     15311|59419.339999999975|\n",
      "|     18074|             489.6|\n",
      "|     17420| 598.8299999999999|\n",
      "+----------+------------------+\n",
      "only showing top 5 rows\n",
      "\n"
     ]
    }
   ],
   "source": [
    "staticDataFrame\\\n",
    ".selectExpr(\n",
    "\"CustomerID\",\n",
    "\"(UnitPrice * Quantity) as total_cost\",\n",
    "\"InvoiceDate\")\\\n",
    ".groupBy(F.col(\"CustomerID\"))\\\n",
    ".sum(\"total_cost\")\\\n",
    ".show(5)"
   ]
  },
  {
   "cell_type": "code",
   "execution_count": 125,
   "id": "adaptive-relay",
   "metadata": {},
   "outputs": [],
   "source": [
    "# window function을 활용하기 위해 .. The time column must be of pyspark.sql.types.TimestampType.\n",
    "# 참고: https://spark.apache.org/docs/latest/api/python/reference/pyspark.sql/api/pyspark.sql.functions.window.html\n",
    "staticDataFrame = staticDataFrame\\\n",
    ".withColumn(\"date\", F.to_date(F.to_timestamp(F.col(\"InvoiceDate\"), \"M/d/yyyy H:mm\")))"
   ]
  },
  {
   "cell_type": "code",
   "execution_count": 126,
   "id": "political-budget",
   "metadata": {},
   "outputs": [
    {
     "name": "stdout",
     "output_type": "stream",
     "text": [
      "root\n",
      " |-- InvoiceNo: string (nullable = true)\n",
      " |-- StockCode: string (nullable = true)\n",
      " |-- Description: string (nullable = true)\n",
      " |-- Quantity: integer (nullable = true)\n",
      " |-- InvoiceDate: string (nullable = true)\n",
      " |-- UnitPrice: double (nullable = true)\n",
      " |-- CustomerID: integer (nullable = true)\n",
      " |-- Country: string (nullable = true)\n",
      " |-- date: date (nullable = true)\n",
      "\n"
     ]
    }
   ],
   "source": [
    "staticDataFrame.printSchema()"
   ]
  },
  {
   "cell_type": "code",
   "execution_count": 127,
   "id": "outside-county",
   "metadata": {},
   "outputs": [
    {
     "name": "stdout",
     "output_type": "stream",
     "text": [
      "+----------+--------------------+-----------------+\n",
      "|CustomerID|              window|  sum(total_cost)|\n",
      "+----------+--------------------+-----------------+\n",
      "|     13047|{2010-11-30 09:00...|366.6300000000001|\n",
      "|     13748|{2010-11-30 09:00...|            204.0|\n",
      "|     15100|{2010-11-30 09:00...|            350.4|\n",
      "|     14527|{2010-11-30 09:00...|            -27.5|\n",
      "|     12431|{2010-11-30 09:00...|           358.25|\n",
      "+----------+--------------------+-----------------+\n",
      "only showing top 5 rows\n",
      "\n"
     ]
    }
   ],
   "source": [
    "staticDataFrame\\\n",
    ".selectExpr(\n",
    "\"CustomerID\",\n",
    "\"(UnitPrice * Quantity) as total_cost\",\n",
    "\"date\")\\\n",
    ".groupBy(\n",
    "    F.col(\"CustomerID\"), F.window(F.col(\"date\"), \"1 day\"))\\\n",
    ".sum(\"total_cost\")\\\n",
    ".show(5)\n",
    "\n",
    "# ? -27 ????"
   ]
  },
  {
   "cell_type": "code",
   "execution_count": 128,
   "id": "acoustic-hampton",
   "metadata": {},
   "outputs": [
    {
     "name": "stdout",
     "output_type": "stream",
     "text": [
      "+----------+----------+-----------------+\n",
      "|CustomerID|      date|       total_cost|\n",
      "+----------+----------+-----------------+\n",
      "|     13047|2010-12-01|366.6300000000001|\n",
      "|     15100|2010-12-01|            350.4|\n",
      "|     15291|2010-12-01|            328.8|\n",
      "|     17809|2010-12-01|             34.8|\n",
      "|     17924|2010-12-01|            279.0|\n",
      "+----------+----------+-----------------+\n",
      "only showing top 5 rows\n",
      "\n"
     ]
    }
   ],
   "source": [
    "spark.sql(\"\"\"\n",
    "SELECT CustomerID, to_date(to_timestamp(InvoiceDate, 'M/d/yyyy H:mm')) as date, sum(UnitPrice * Quantity) as total_cost\n",
    "FROM retail_data\n",
    "GROUP BY CustomerID, date\"\"\").show(5)"
   ]
  },
  {
   "cell_type": "code",
   "execution_count": null,
   "id": "pharmaceutical-possibility",
   "metadata": {},
   "outputs": [],
   "source": []
  }
 ],
 "metadata": {
  "kernelspec": {
   "display_name": "Python 3",
   "language": "python",
   "name": "python3"
  },
  "language_info": {
   "codemirror_mode": {
    "name": "ipython",
    "version": 3
   },
   "file_extension": ".py",
   "mimetype": "text/x-python",
   "name": "python",
   "nbconvert_exporter": "python",
   "pygments_lexer": "ipython3",
   "version": "3.9.15"
  }
 },
 "nbformat": 4,
 "nbformat_minor": 5
}
